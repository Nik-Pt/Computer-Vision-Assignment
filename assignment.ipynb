{
 "cells": [
  {
   "cell_type": "markdown",
   "metadata": {
    "id": "y3Jp_VhCl4te",
    "tags": []
   },
   "source": [
    "# MΥΕ046 – Υπολογιστική Όραση: Χειμερινό εξάμηνο 2024-2025\n",
    "## Εργασία: 30% του συνολικού βαθμού\n",
    "## Διδάσκων: Άγγελος Γιώτης\n",
    "- ΠΑΡΑΔΟΣΗ: **Τρίτη, 14 Ιανουαρίου, 2025 23:59**"
   ]
  },
  {
   "cell_type": "markdown",
   "metadata": {
    "id": "FOXXS2dOl4tj",
    "tags": []
   },
   "source": [
    "# Γενικές Οδηγίες\n",
    "\n",
    "Απαντήστε στα παρακάτω ζητήματα χρησιμοποιώντας Python στο συνημμένο σημειωματάριο Jupyter και ακολουθήστε τις παρακάτω οδηγίες:\n",
    " \n",
    "- Οι ασκήσεις είναι **ατομικές** - δεν επιτρέπεται η μεταξύ σας συνεργασία για την υλοποίηση/παράδοσή τους.\n",
    "\n",
    "- **Δεν** επιτρέπεται να χρησιμοποιήσετε κώδικα που τυχόν θα βρείτε στο διαδίκτυο (είτε αυτούσιο, είτε **παραγόμενο από ΑΙ**). Η χρήση κώδικα τρίτων θα έχει σαν αποτέλεσμα τον αυτόματο μηδενισμό σας.\n",
    "\n",
    "- Όλες οι λύσεις πρέπει να είναι γραμμένες σε αυτό το σημειωματάριο `Jupyter notebook`.\n",
    "\n",
    "- **Εάν** ένα ζήτημα περιλαμβάνει θεωρητική ερώτηση, η απάντηση θα **πρέπει** να συμπεριληφθεί στο τέλος του ζητήματος, σε ξεχωριστό \"Markdown\" κελί.\n",
    "\n",
    "- Ο κώδικάς σας πρέπει να σχολιαστεί εκτενώς! Καλά σχολιασμένος κώδικας θα συνεκτιμηθεί στην αξιολόγησή σας.\n",
    "\n",
    "- Αφού ολοκληρώσετε (υλοποιήσετε και εκτελέσετε) τις απαντήσεις σας στο σημειωματάριο (notebook), εξαγάγετε το notebook ως **PDF** και υποβάλετε, τόσο το σημειωματάριο όσο και το PDF (δηλαδή τα αρχεία `.ipynb` και `.pdf`) στο `turnin` του μαθήματος, μαζί με ένα συνοδευτικό αρχείο `onoma.txt` που θα περιέχει το ον/μο σας και τον Α.Μ. σας. Μια καλή πρακτική για την αποφυγή προβλημάτων απεικόνισης, π.χ., περικοπής εικόνων/κώδικα στα όρια της σελίδας, είναι η μετατροπή του `.ipynb` σε HTML και μετά η αποθήκευση του HTML αρχείου ως PDF.\n",
    "\n",
    "- Οι απαντήσεις θα παραδοθούν με την εντολή: **turnin assignment@mye046 onoma.txt assignment.ipynb assignment.pdf**\n",
    "\n",
    "- Μπορείτε να χρησιμοποιήσετε βασικά πακέτα γραμμικής άλγεβρας (π.χ. `NumPy`, `SciPy`), αλλά δεν επιτρέπεται να χρησιμοποιείτε τα πακέτα/βιβλιοθήκες που επιλύουν άμεσα τα προβλήματα, εκτός και αν αναφέρεται διαφορετικά η χρήση συγκεκριμένου πακέτου σε κάποιο ζήτημα. Αν δεν είστε βέβαιοι για κάποιο συγκεκριμένο πακέτο/βιβλιοθήκη ή συνάρτηση που θα χρησιμοποιήσετε, μη διστάσετε να ρωτήσετε τον διδάσκοντα.\n",
    "\n",
    "- Συνιστάται ιδιαίτερα να αρχίσετε να εργάζεστε στις ασκήσεις σας το συντομότερο δυνατό!\n",
    "\n",
    "**Late Policy:** Εργασίες που υποβάλλονται καθυστερημένα θα λαμβάνουν μείωση βαθμού 10% για κάθε 24 ώρες καθυστέρησης. Οι εργασίες δεν θα γίνονται δεκτές 96 ώρες (4 ημέρες) μετά την προθεσμία παράδοσης. Για παράδειγμα, παράδοση της εργασίας 2 ημέρες μετά την προθεσμία βαθμολογείται με άριστα το 24 (από 30)."
   ]
  },
  {
   "cell_type": "markdown",
   "metadata": {
    "id": "l5pbyh5yl4tk",
    "tags": [],
    "toc-hr-collapsed": true
   },
   "source": [
    "# Intro to Google Colab, Jupyter Notebook - JupyterLab, Python\n",
    "\n",
    "**Εισαγωγή**\n",
    "\n",
    "- Η Εργασία του μαθήματος ΜΥΕ046-Υπολογιστική Όραση περιλαμβάνει 2 Ασκήσεις στο αρχείο `assignment.ipynb`, το οποίο απαιτεί περιβάλλον Jupyter Notebook ή JupyterLab για προβολή και επεξεργασία, **είτε τοπικά** (local machine) στον υπολογιστή σας, **είτε μέσω της υπηρεσίας** νέφους [Google Colab](https://colab.research.google.com/) ή [Colaboratory](https://colab.research.google.com/).\n",
    "\n",
    "\n",
    "**Working remotely on Google Colaboratory**\n",
    "\n",
    "Το [Google Colaboratory](https://colab.research.google.com/) είναι ένας συνδυασμός σημειωματαρίου Jupyter και [Google Drive](https://www.google.com/drive/). Εκτελείται εξ' ολοκλήρου στο cloud και έρχεται προεγκατεστημένο με πολλά πακέτα (π.χ. PyTorch και Tensorflow), ώστε όλοι να έχουν πρόσβαση στις ίδιες εξαρτήσεις/βιβλιοθήκες. Ακόμη πιο ενδιαφέρον είναι το γεγονός ότι το Colab επωφελείται από την ελεύθερη πρόσβαση σε επιταχυντές υλικού (π.χ. κάρτες γραφικών) όπως οι GPU (K80, P100) και οι TPU.\n",
    "\n",
    "- Requirements:\n",
    "\n",
    "Για να χρησιμοποιήσετε το Colab, πρέπει να έχετε λογαριασμό Google με συσχετισμένο Google Drive. Υποθέτοντας ότι έχετε και τα δύο (ο ακαδημαϊκός σας λογαριασμός είναι λογαριασμός google), μπορείτε να συνδέσετε το Colab στο Drive σας με τα ακόλουθα βήματα:\n",
    "\n",
    "1. Κάντε κλικ στον τροχό στην επάνω δεξιά γωνία (στο Google Drive) και επιλέξτε `Ρυθμίσεις`.\n",
    "2. Κάντε κλικ στην καρτέλα `Διαχείριση εφαρμογών`.\n",
    "3. Στο επάνω μέρος, επιλέξτε `Σύνδεση περισσότερων εφαρμογών` που θα εμφανίσουν ένα παράθυρο του `GSuite Marketplace`.\n",
    "4. Αναζητήστε το `Colab` και, στη συνέχεια, κάντε κλικ στην `Προσθήκη` (install).\n",
    "\n",
    "- Workflow:\n",
    "\n",
    "Η εργασία στη σελίδα ecourse του μαθήματος παρέχει έναν σύνδεσμο λήψης σε ένα αρχείο `assignment.zip` που περιέχει:\n",
    "1. `images/`, φάκελος με ενδεικτικές εικόνες των παρακάτω ζητημάτων.\n",
    "2. `assignment.ipynb`, το σημειωματάριo jupyter στο οποίο θα εργαστείτε και θα παραδώσετε. \n",
    "3. `tutorial1_pytorch_introduction.ipynb`, που περιλαμβάνει στοιχειώδη παραδείγματα με χρήση της βιλβιοθήκης βαθιάς μάθησης `PyTorch` (αφορά στη 2η εργασία).\n",
    "4. `Σημειώσεις PCA-SVD.pdf`, σημειώσεις που σχετίζονται με το ζήτημα **1.6** της **1ης** άσκησης.\n",
    "5. `Σημειώσεις CNN.pdf`, σημειώσεις που σχετίζονται με το ζήτημα **2.5** της **2ης** άσκησης.\n",
    "\n",
    "- Βέλτιστες πρακτικές:\n",
    "\n",
    "Υπάρχουν μερικά πράγματα που πρέπει να γνωρίζετε όταν εργάζεστε με την υπηρεσία Colab. Το πρώτο πράγμα που πρέπει να σημειωθεί είναι ότι οι πόροι δεν είναι εγγυημένοι (αυτό είναι το τίμημα της δωρεάν χρήσης). Εάν είστε σε αδράνεια για ένα συγκεκριμένο χρονικό διάστημα ή ο συνολικός χρόνος σύνδεσής σας υπερβαίνει τον μέγιστο επιτρεπόμενο χρόνο (~12 ώρες), το Colab VM θα αποσυνδεθεί. Αυτό σημαίνει ότι οποιαδήποτε μη αποθηκευμένη πρόοδος θα χαθεί. Έτσι, φροντίστε να αποθηκεύετε συχνά την υλοποίησή σας ενώ εργάζεστε.\n",
    "\n",
    "- Χρήση GPU:\n",
    "\n",
    "Η χρήση μιας GPU απαιτεί πολύ απλά την αλλαγή του τύπου εκτέλεσης (runtime) στο Colab. Συγκεκριμένα, κάντε κλικ `Runtime -> Change runtime type -> Hardware Accelerator -> GPU` και το στιγμιότυπο εκτέλεσής σας Colab θα υποστηρίζεται αυτόματα από επιταχυντή υπολογισμών GPU (αλλαγή τύπου χρόνου εκτέλεσης σε GPU ή TPU). Στην παρούσα εργασία, **δεν** θα χρειαστεί η χρήση GPU.\n",
    "\n",
    "\n",
    "**Working locally on your machine**\n",
    "\n",
    "**Linux**\n",
    "\n",
    "Εάν θέλετε να εργαστείτε τοπικά στον Η/Υ σας, θα πρέπει να χρησιμοποιήσετε ένα εικονικό περιβάλλον. Μπορείτε να εγκαταστήσετε ένα μέσω του [Anaconda](https://www.anaconda.com/products/distribution) (συνιστάται) ή μέσω της native μονάδας `venv` της Python. Βεβαιωθείτε ότι χρησιμοποιείτε (τουλάχιστον) έκδοση Python 3.7.\n",
    "\n",
    "- Εικονικό περιβάλλον Anaconda: \n",
    "Συνιστάται η χρήση της δωρεάν διανομής [Anaconda](https://www.anaconda.com/products/distribution), η οποία παρέχει έναν εύκολο τρόπο για να χειριστείτε τις εξαρτήσεις πακέτων. Μόλις εγκαταστήσετε το Anaconda, είναι εύχρηστο να δημιουργήσετε ένα εικονικό περιβάλλον για το μάθημα. Για να ρυθμίσετε ένα εικονικό περιβάλλον που ονομάζεται π.χ. `mye046`, εκτελέστε τα εξής στο τερματικό σας:\n",
    "`conda create -n mye046 python=3.7` (Αυτή η εντολή θα δημιουργήσει το περιβάλλον mye046 στη διαδρομή 'path/to/anaconda3/envs/')\n",
    "Για να ενεργοποιήσετε και να εισέλθετε στο περιβάλλον, εκτελέστε το `conda activate mye046`. Για να απενεργοποιήσετε το περιβάλλον, είτε εκτελέστε `conda deactivate mye046` είτε βγείτε από το τερματικό. Σημειώστε ότι κάθε φορά που θέλετε να εργαστείτε στην εργασία, θα πρέπει να εκτελείτε ξανά το `conda activate mye046`.\n",
    "\n",
    "- Εικονικό περιβάλλον Python venv:\n",
    "Για να ρυθμίσετε ένα εικονικό περιβάλλον που ονομάζεται mye046, εκτελέστε τα εξής στο τερματικό σας:\n",
    "`python3.7 -m venv ~/mye046`\n",
    "Για να ενεργοποιήσετε και να εισέλθετε στο περιβάλλον, εκτελέστε το `source ~/mye046/bin/activate`. Για να απενεργοποιήσετε το περιβάλλον, εκτελέστε: `deactivate` ή έξοδο από το τερματικό. Σημειώστε ότι κάθε φορά που θέλετε να εργαστείτε για την άσκηση, θα πρέπει να εκτελείτε ξανά το `source ~/mye046/bin/activate`.\n",
    "\n",
    "- Εκτέλεση Jupyter Notebook:\n",
    "Εάν θέλετε να εκτελέσετε το notebook τοπικά με το Jupyter, βεβαιωθείτε ότι το εικονικό σας περιβάλλον έχει εγκατασταθεί σωστά (σύμφωνα με τις οδηγίες εγκατάστασης που περιγράφονται παραπάνω για περιβάλλον linux), ενεργοποιήστε το και, στη συνέχεια, εκτελέστε `pip install notebook` για να εγκαταστήσετε το σημειωματάριο `Jupyter`. Στη συνέχεια, αφού κατεβάσετε και αποσυμπιέσετε το φάκελο της Άσκησης από τη σελίδα ecourse σε κάποιο κατάλογο της επιλογής σας, εκτελέστε `cd` σε αυτόν το φάκελο και στη συνέχεια εκτελέστε το σημειωματάριο `jupyter notebook`.\n",
    "Αυτό θα πρέπει να εκκινήσει αυτόματα έναν διακομιστή notebook στη διεύθυνση `http://localhost:8888`. Εάν όλα έγιναν σωστά, θα πρέπει να δείτε μια οθόνη που θα εμφανίζει όλα τα διαθέσιμα σημειωματάρια στον τρέχοντα κατάλογο, στην προκειμένη περίπτωση μόνο το `assignment.ipynb` (η εργασία σας). Κάντε κλικ στο `assignment.ipynb` και ακολουθήστε τις οδηγίες στο σημειωματάριο.\n",
    "\n",
    "\n",
    "**Windows**\n",
    "\n",
    "Τα πράγματα είναι πολύ πιο απλά στην περίπτωση που θέλετε να εργαστείτε τοπικά σε περιβάλλον `Windows`. Μπορείτε να εγκαταστήσετε την [Anaconda](https://www.anaconda.com/products/distribution) για Windows και στη συνέχεια να εκτελέσετε το [Anaconda Navigator](https://docs.anaconda.com/navigator/index.html) αναζητώντας το απευθείας στο πεδίο αναζήτησης δίπλα από το κουμπί `έναρξης` των Windows. Το εργαλείο αυτό παρέχει επίσης άμεσα προεγκατεστημένα, τα πακέτα λογισμικού Jupyter Notebook και JupyterLab τα οποία επιτρέπουν την προβολή και υλοποίηση του σημειοματαρίου Jupyter άμεσα και εύκολα (εκτελώντας το απευθείας από τη διαδρομή αρχείου που βρίσκεται). Ενδεχομένως, κατά την αποθήκευση/εξαγωγή του notebook `assignment.ipynb` σε `assignment.pdf`, να χρειαστεί η εγκατάσταση του πακέτου [Pandoc universal document converter](https://pandoc.org/installing.html) (εκτέλεση: `conda install -c conda-forge pandoc` μέσα από το command prompt του \"activated\" anaconda navigator). Εναλλακτικά, μπορεί να εκτυπωθεί ως PDF αρχείο (**βλ. Ενότητα**: Οδηγίες υποβολής).\n",
    "\n",
    "**Python**\n",
    "\n",
    "Θα χρησιμοποιήσουμε τη γλώσσα προγραμματισμού Python και στις 2 ασκήσεις, με μερικές δημοφιλείς βιβλιοθήκες (`NumPy`, `Matplotlib`) ενώ στη 2η άσκηση θα χρειαστεί και η βιβλιοθήκη βαθιάς μάθησης PyTorch. Αναμένεται ότι πολλοί από εσάς έχετε κάποια εμπειρία σε `Python` και `NumPy`. Και αν έχετε πρότερη εμπειρία σε `MATLAB`, μπορείτε να δείτε επίσης το σύνδεσμο [NumPy for MATLAB users](https://numpy.org/doc/stable/user/numpy-for-matlab-users.html)."
   ]
  },
  {
   "cell_type": "markdown",
   "metadata": {
    "id": "l5pbyh5yl4tk",
    "tags": [],
    "toc-hr-collapsed": true
   },
   "source": [
    "## Άσκηση 1: Μηχανική Μάθηση [15 μονάδες]"
   ]
  },
  {
   "cell_type": "markdown",
   "metadata": {
    "id": "m16Ecnjdl4tk"
   },
   "source": [
    "Στην άσκηση αυτή θα υλοποιήσετε μια σειρά από παραδοσιακές τεχνικές μηχανικής μάθησης με εφαρμογή στην επίλυση προβλημάτων υπολογιστικής όρασης."
   ]
  },
  {
   "cell_type": "markdown",
   "metadata": {
    "id": "zQpyhnvIl4tk"
   },
   "source": [
    "### Ζήτημα 1.1: Αρχική Εγκατάσταση"
   ]
  },
  {
   "cell_type": "markdown",
   "metadata": {
    "id": "CCC0JD1Il4tl"
   },
   "source": [
    "Θα χρησιμοποιήσουμε την ενότητα [Scikit-learn (Sklearn)](https://scikit-learn.org/stable/) για αυτή την άσκηση. Είναι μια από τις πιο χρήσιμες και ισχυρές βιβλιοθήκες για μηχανική μάθηση στην Python. Παρέχει μια επιλογή αποτελεσματικών εργαλείων για μηχανική μάθηση και στατιστική μοντελοποίηση, συμπεριλαμβανομένης της ταξινόμησης (classification), της παλινδρόμησης (regression), της ομαδοποίησης (clustering) και της μείωσης διάστασης (dimensionality reduction). Αυτό το πακέτο, το οποίο είναι σε μεγάλο βαθμό γραμμένο σε Python, βασίζεται στις βιβλιοθήκες NumPy, SciPy και Matplotlib.\n",
    "\n",
    "Αρχικά καλούμε/εγκαθιστούμε τη βασική μονάδα της βιβλιοθήκης sklearn."
   ]
  },
  {
   "cell_type": "code",
   "execution_count": 343,
   "metadata": {
    "id": "8ZiYlaSol4tm"
   },
   "outputs": [
    {
     "data": {
      "text/plain": [
       "'1.5.2'"
      ]
     },
     "execution_count": 343,
     "metadata": {},
     "output_type": "execute_result"
    }
   ],
   "source": [
    "import sklearn\n",
    "sklearn.__version__"
   ]
  },
  {
   "cell_type": "markdown",
   "metadata": {
    "id": "0SQL5iPKl4to"
   },
   "source": [
    "### Ζήτημα 1.2: Λήψη συνόλου δεδομένων χειρόγραφων ψηφίων \"MNIST\" και απεικόνιση παραδειγμάτων [1 μονάδα]"
   ]
  },
  {
   "cell_type": "markdown",
   "metadata": {
    "id": "-_f1_Tz7l4tq"
   },
   "source": [
    "Η βάση δεδομένων [MNIST](https://en.wikipedia.org/wiki/MNIST_database) (Modified National Institute of Standards and Technology database) είναι ένα αρκετά διαδεδομένο σύνολο δεδομένων που αποτελείται από εικόνες χειρόγραφων ψηφίων, διαστάσεων 28x28 σε κλίμακα του γκρι. Για αυτό το ζήτημα, θα χρησιμοποιήσουμε το πακέτο Sklearn για να κάνουμε ταξινόμηση μηχανικής μάθησης στο σύνολο δεδομένων MNIST.\n",
    "\n",
    "Το Sklearn παρέχει μια βάση δεδομένων MNIST χαμηλότερης ανάλυσης με εικόνες ψηφίων 8x8 pixel. Το πεδίο (attribute) `images` του συνόλου δεδομένων, αποθηκεύει πίνακες 8x8 τιμών κλίμακας του γκρι για κάθε εικόνα. Το πεδίο (attribute) `target` του συνόλου δεδομένων αποθηκεύει το ψηφίο που αντιπροσωπεύει κάθε εικόνα. Ολοκληρώστε τη συνάρτηση `plot_mnist_sample()` για να απεικονίσετε σε ένα σχήμα 2x5 ένα δείγμα εικόνας από κάθε μια κατηγορία (κάθε πλαίσιο του 2x5 σχήματος αντιστοιχεί σε ένα ψηφίο/εικόνα μιας κατηγορίας). Η παρακάτω εικόνα δίνει ένα παράδειγμα:\n",
    "<!-- <img src=\"./images/examples_mnist.PNG\" alt=\"drawing\" width=\"400\"/> -->\n",
    "![mnist](images/examples_mnist.PNG) "
   ]
  },
  {
   "cell_type": "code",
   "execution_count": 344,
   "metadata": {
    "id": "vbXpRqO1l4tq"
   },
   "outputs": [],
   "source": [
    "import numpy as np\n",
    "import matplotlib.pyplot as plt\n",
    "from sklearn import datasets"
   ]
  },
  {
   "cell_type": "code",
   "execution_count": 345,
   "metadata": {
    "id": "3PTXSZhWl4tr",
    "scrolled": true
   },
   "outputs": [
    {
     "name": "stdout",
     "output_type": "stream",
     "text": [
      "Images Shape (1797, 8, 8)\n",
      "Image Data Shape (1797, 64)\n",
      "Label Data Shape (1797,)\n"
     ]
    }
   ],
   "source": [
    "# Download MNIST Dataset from Sklearn\n",
    "digits = datasets.load_digits()\n",
    "\n",
    "# Print to show there are 1797 images (8 by 8)\n",
    "print(\"Images Shape\" , digits.images.shape)\n",
    "\n",
    "# Print to show there are 1797 image data (8 by 8 images for a dimensionality of 64)\n",
    "print(\"Image Data Shape\" , digits.data.shape)\n",
    "\n",
    "# Print to show there are 1797 labels (integers from 0-9)\n",
    "print(\"Label Data Shape\", digits.target.shape)"
   ]
  },
  {
   "cell_type": "code",
   "execution_count": 346,
   "metadata": {
    "id": "p43geFB4l4tr"
   },
   "outputs": [],
   "source": [
    "def plot_mnist_sample(digits):\n",
    "    \"\"\"\n",
    "    This function plots a sample image for each category,\n",
    "    The result is a figure with 2x5 grid of images.\n",
    "    \n",
    "    \"\"\"\n",
    "    plt.figure()\n",
    "    \n",
    "    \"==========\"\n",
    "    for digit in range(10):\n",
    "        #Βρισκουμε την πρωτη εμφανηση του digit που θελουμε\n",
    "        index = np.where(digits.target == digit)[0][0]\n",
    "\n",
    "        #Δημιουργειται ενα νεο subplot για καθε νεα εικονα\n",
    "        plt.subplot(2, 5, digit + 1)\n",
    "        \n",
    "        #Γινεται Plot για την συγκεκριμενη εικονα\n",
    "        plt.imshow(digits.images[index], cmap='gray')\n",
    "        \n",
    "        #Τιτλος καθε εικονας για να γνωριζουμε ποιο digit εχουμε και αφαιρω τους αξωνες\n",
    "        plt.title(f\"Digit: {digit}\")\n",
    "        plt.axis('off')\n",
    "\n",
    "    #Γινεται η σωστη μετατοπηση των εικονων ωστε να φαινονται καλυτερα\n",
    "    plt.tight_layout()\n",
    "    plt.show()\n",
    "\n",
    "    \"==========\"    "
   ]
  },
  {
   "cell_type": "code",
   "execution_count": 347,
   "metadata": {
    "id": "xEj8kOdul4tr"
   },
   "outputs": [
    {
     "data": {
      "image/png": "[encoded data removed]",
      "text/plain": [
       "<Figure size 640x480 with 10 Axes>"
      ]
     },
     "metadata": {},
     "output_type": "display_data"
    }
   ],
   "source": [
    "# PLOT CODE: DO NOT CHANGE\n",
    "# This code is for you to plot the results.\n",
    "\n",
    "plot_mnist_sample(digits)"
   ]
  },
  {
   "cell_type": "markdown",
   "metadata": {
    "id": "sD68VE3pl4ts"
   },
   "source": [
    "### Ζήτημα 1.3: Αναγνώριση χειρόγραφων ψηφίων με Sklearn [2 μονάδες]"
   ]
  },
  {
   "cell_type": "markdown",
   "metadata": {
    "id": "W3ctL_Gwl4ts"
   },
   "source": [
    "Ένα από τα πιο ενδιαφέροντα πράγματα σχετικά με τη βιβλιοθήκη Sklearn είναι ότι παρέχει έναν εύκολο τρόπο δημιουργίας και κλήσης/χρήσης διαφορετικών μοντέλων. Σε αυτό το μέρος της άσκησης, θα αποκτήσετε εμπειρία με τα μοντέλα ταξινόμησης `LogisticRegressionClassifier` (ταξινόμηση με λογιστική παλινδρόμηση) και `kNNCalssifier` (ταξινόμηση με τη μέθοδο κ-κοντινότερων γειτόνων).\n",
    "\n",
    "Ακολουθούν αρχικά 2 βοηθητικές ρουτίνες: 1) μια *ρουτίνα δημιουργίας* mini-batches (παρτίδων) δεδομένων *εκπαίδευσης* και *ελέγχου*, αντίστοιχα, 2) μια *ρουτίνα ελέγχου* του εκάστοτε ταξινομητή στις παρτίδες δεδομένων (train/test): α) RandomClassifier(), β) LogisticRegressionClassifier(), γ) kNNClassifier καθώς και των ταξινομητών των ζητημάτων 1.4, 1.5, 1.6 και 2.2, 2.4, 2.5. Στη συνέχεια η συνάρτηση train_test_split() διαχωρίζει το σύνολο δεδομένων σε δεδομένα μάθησης (training set: <X_train, y_train>) και ελέγχου (test set: <X_test, y_test>).\n",
    "\n",
    "Ο κώδικας που ακολουθεί στη συνέχεια ορίζει κάποιες συναρτήσεις/μεθόδους για 3 ταξινομητές: 2 για τον RandomClassifier() και 3 μεθόδους για τους ταξινομητές LogisticRegressionClassifier() και kNNClassifier(). Οι 2 τελευταίες κλάσσεις έχουν μια μέθοδο __init__ για αρχικοποίηση, μια μέθοδο **train** για την εκπαίδευση του μοντέλου και μια μέθοδο __call__ για την πραγματοποίηση προβλέψεων. Πρέπει να συμπληρώσετε τα μέρη κώδικα που λείπουν από τις κλάσεις LogisticRegressionClassifier και kNNClassifier, χρησιμοποιώντας τις υλοποιήσεις `LogisticRegression` και `KNeighborsClassifier` από το Sklearn. Τέλος να συμπληρώσετε τον κώδικα για την αξιολόγηση του `KNeighborsClassifier` ταξινομητή στο σύνολο ελέγχου."
   ]
  },
  {
   "cell_type": "code",
   "execution_count": 348,
   "metadata": {
    "id": "bDZ8BK3Ol4ts"
   },
   "outputs": [],
   "source": [
    "# DO NOT CHANGE\n",
    "#### Some helper functions are given below####\n",
    "def DataBatch(data, label, batchsize, shuffle=True):\n",
    "    \"\"\"\n",
    "    This function provides a generator for batches of data that \n",
    "    yields data (batchsize, 3, 32, 32) and labels (batchsize)\n",
    "    if shuffle, it will load batches in a random order\n",
    "    \"\"\"\n",
    "    n = data.shape[0]\n",
    "    if shuffle:\n",
    "        index = np.random.permutation(n)\n",
    "    else:\n",
    "        index = np.arange(n)\n",
    "    for i in range(int(np.ceil(n/batchsize))):\n",
    "        inds = index[i*batchsize : min(n,(i+1)*batchsize)]\n",
    "        yield data[inds], label[inds]\n",
    "\n",
    "def test(testData, testLabels, classifier):\n",
    "    \"\"\"\n",
    "    Call this function to test the accuracy of a classifier\n",
    "    \"\"\"\n",
    "    batchsize=50\n",
    "    correct=0.\n",
    "    for data,label in DataBatch(testData,testLabels,batchsize,shuffle=False):\n",
    "        prediction = classifier(data)\n",
    "        correct += np.sum(prediction==label)\n",
    "    return correct/testData.shape[0]*100"
   ]
  },
  {
   "cell_type": "code",
   "execution_count": 349,
   "metadata": {
    "id": "QQ0N2RCZl4tt"
   },
   "outputs": [],
   "source": [
    "# DO NOT CHANGE\n",
    "# Split data into 90% train and 10% test subsets\n",
    "from sklearn.model_selection import train_test_split\n",
    "\n",
    "X_train, X_test, y_train, y_test = train_test_split(\n",
    "    digits.images.reshape((len(digits.images), -1)), digits.target, test_size=0.1, shuffle=False)"
   ]
  },
  {
   "cell_type": "code",
   "execution_count": 350,
   "metadata": {
    "id": "m6JnXh3jl4tt"
   },
   "outputs": [],
   "source": [
    "from sklearn.linear_model import LogisticRegression\n",
    "from sklearn.neighbors import KNeighborsClassifier\n",
    "\n",
    "class RandomClassifier():\n",
    "    \"\"\"\n",
    "    This is a sample classifier. \n",
    "    given an input it outputs a random class\n",
    "    \"\"\"\n",
    "    def __init__(self, classes=10):\n",
    "        self.classes=classes\n",
    "    def __call__(self, x):\n",
    "        return np.random.randint(self.classes, size=x.shape[0])\n",
    "    \n",
    "class LogisticRegressionClassifier():\n",
    "    def __init__(self, sol='liblinear'):\n",
    "        \"\"\"\n",
    "        Initialize Logistic Regression model.\n",
    "        \n",
    "        Inputs:\n",
    "        sol: Solver method that the Logistic Regression model would use for optimization\n",
    "        \"\"\"\n",
    "        \"\"\" ==========\n",
    "        YOUR CODE HERE\n",
    "        ========== \"\"\"\n",
    "        self.model = LogisticRegression(solver = sol)\n",
    "        \n",
    "        \n",
    "    def train(self, trainData, trainLabels):\n",
    "        \"\"\"\n",
    "        Train your model with image data and corresponding labels.\n",
    "        \n",
    "        Inputs:\n",
    "        trainData: Training images (N,64)\n",
    "        trainLabels: Labels (N,)\n",
    "        \"\"\"\n",
    "        \"\"\" ==========\n",
    "        YOUR CODE HERE\n",
    "        ========== \"\"\"\n",
    "        self.model.fit(trainData, trainLabels)\n",
    "        \n",
    "        \n",
    "    def __call__(self, x):\n",
    "        \"\"\"\n",
    "        Predict the trained model on test data.\n",
    "\n",
    "        Inputs:\n",
    "        x: Test images (N,64)\n",
    "\n",
    "        Returns:\n",
    "        predicted labels (N,)\n",
    "        \"\"\"\n",
    "        \"\"\" ==========\n",
    "        YOUR CODE HERE\n",
    "        ========== \"\"\"\n",
    "        return self.model.predict(x)\n",
    "       \n",
    "    \n",
    "class kNNClassifier():\n",
    "    def __init__(self, k=3, algorithm='brute'):\n",
    "        \"\"\"\n",
    "        Initialize KNN model.\n",
    "        \n",
    "        Inputs:\n",
    "        k: number of neighbors involved in voting\n",
    "        algorithm: Algorithm used to compute nearest neighbors\n",
    "        \"\"\"\n",
    "        \"\"\" ==========\n",
    "        YOUR CODE HERE\n",
    "        ========== \"\"\"\n",
    "        self.model = KNeighborsClassifier(n_neighbors = k, algorithm = algorithm)\n",
    "        \n",
    "        \n",
    "    def train(self, trainData, trainLabels):\n",
    "        \"\"\"\n",
    "        Train your model with image data and corresponding labels.\n",
    "        \n",
    "        Inputs:\n",
    "        trainData: Training images (N,64)\n",
    "        trainLabels: Labels (N,)\n",
    "        \"\"\"\n",
    "        \"\"\" ==========\n",
    "        YOUR CODE HERE\n",
    "        ========== \"\"\"\n",
    "        self.model.fit(trainData, trainLabels)\n",
    "       \n",
    "        \n",
    "    def __call__(self, x):\n",
    "        \"\"\"\n",
    "        Predict the trained model on test data.\n",
    "\n",
    "        Inputs:\n",
    "        x: Test images (N,64)\n",
    "\n",
    "        Returns:\n",
    "        predicted labels (N,)\n",
    "        \"\"\"\n",
    "        \"\"\" ==========\n",
    "        YOUR CODE HERE\n",
    "        ========== \"\"\"\n",
    "        return self.model.predict(x)\n",
    "        "
   ]
  },
  {
   "cell_type": "code",
   "execution_count": 351,
   "metadata": {
    "id": "ZQ9k9kw-l4tt"
   },
   "outputs": [
    {
     "name": "stdout",
     "output_type": "stream",
     "text": [
      "Random classifier accuracy: 10.555556\n"
     ]
    }
   ],
   "source": [
    "# TEST CODE: DO NOT CHANGE\n",
    "randomClassifierX = RandomClassifier()\n",
    "print ('Random classifier accuracy: %f'%test(X_test, y_test, randomClassifierX))"
   ]
  },
  {
   "cell_type": "code",
   "execution_count": 352,
   "metadata": {
    "id": "tOGbN8GDl4tu"
   },
   "outputs": [
    {
     "name": "stdout",
     "output_type": "stream",
     "text": [
      "Logistic Regression Classifier classifier accuracy: 93.888889\n"
     ]
    }
   ],
   "source": [
    "# TEST CODE: DO NOT CHANGE\n",
    "# TEST LogisticRegressionClassifier\n",
    "\n",
    "lrClassifierX = LogisticRegressionClassifier()\n",
    "lrClassifierX.train(X_train, y_train)\n",
    "print ('Logistic Regression Classifier classifier accuracy: %f'%test(X_test, y_test, lrClassifierX))"
   ]
  },
  {
   "cell_type": "code",
   "execution_count": 353,
   "metadata": {
    "id": "WN3IyTafl4tu"
   },
   "outputs": [
    {
     "name": "stdout",
     "output_type": "stream",
     "text": [
      "k-NN Classifier accuracy: 96.666667\n"
     ]
    }
   ],
   "source": [
    "# TEST kNNClassifier\n",
    "\"\"\" ==========\n",
    "YOUR CODE HERE\n",
    "========== \"\"\"\n",
    "knnClassifierX = kNNClassifier()\n",
    "knnClassifierX.train(X_train, y_train)\n",
    "\n",
    "print('k-NN Classifier accuracy: %f' % test(X_test, y_test, knnClassifierX))\n"
   ]
  },
  {
   "cell_type": "markdown",
   "metadata": {
    "id": "jt39SvrEl4tv"
   },
   "source": [
    "### Ζήτημα 1.4: Πίνακας Σύγχυσης [2 μονάδες]"
   ]
  },
  {
   "cell_type": "markdown",
   "metadata": {
    "id": "9jm0Zmzcl4tv"
   },
   "source": [
    "Ένας πίνακας σύγχυσης είναι ένας 2Δ πίνακας που χρησιμοποιείται συχνά για να περιγράψει την απόδοση ενός μοντέλου ταξινόμησης σε ένα σύνολο δεδομένων ελέγχου/δοκιμής (test data) για τα οποία είναι γνωστές οι πραγματικές τιμές (known labels). Εδώ θα υλοποιήσετε τη συνάρτηση που υπολογίζει τον πίνακα σύγχυσης για έναν ταξινομητή. Ο πίνακας (M) πρέπει να είναι $n \\times n$ όπου $n$ είναι ο αριθμός των κλάσεων/κατηγοριών. Η καταχώριση `M[i,j]` πρέπει να περιέχει το ποσοστό/λόγο των εικόνων της κατηγορίας `i` που ταξινομήθηκε ως κατηγορία `j`. Αν οι καταχωρήσεις `M[i,j]` έχουν υπολογιστεί σωστά, τότε τα στοιχεία `M[k,j]` κατά μήκος μιας γραμμής $k$ για $j \\neq k$ (εκτός της κύριας διαγωνίου) αναμένεται να αντιστοιχούν σε \"ψευδώς αρνητικές\" ταξινομήσεις (false negatives), ενώ τα στοιχεία `M[i,k]` κατά μήκος μιας στήλης $k$ για $i \\neq k$ (εκτός της κύριας διαγωνίου) αναμένεται να αντιστοιχούν σε \"ψευδώς θετικές\" ταξινομήσεις (false positives). Το ακόλουθο παράδειγμα δείχνει τον πίνακα σύγχυσης για τον `RandomClassifier` ταξινομητή. Ο στόχος σας είναι να σχεδιάσετε τα αποτελέσματα για τον `LogisticRegressionClassifier` και τον `kNNClassifier` ταξινομητή. *Να δώσετε προσοχή* στο άθροισμα των στοιχείων μιας γραμμής (false negatives) `M[i,:]` ώστε να αθροίζει σωστά, στο συνολικό ποσοστό ταξινόμησης (100% ή 1). Αν δεν συμβαίνει κάτι τέτοιο, μπορεί να χρειαστείτε κανονικοποίηση των τιμών. \n",
    "\n",
    "<!-- <img src=\"./images/eg_confusion.PNG\" alt=\"drawing\" width=\"250\"/> -->\n",
    "![confusion](images/eg_confusion.PNG) "
   ]
  },
  {
   "cell_type": "code",
   "execution_count": 354,
   "metadata": {
    "id": "HP43z3lOl4tv"
   },
   "outputs": [],
   "source": [
    "from tqdm import tqdm\n",
    "\n",
    "def Confusion(testData, testLabels, classifier):\n",
    "    batchsize=50\n",
    "    correct=0\n",
    "    M=np.zeros((10,10))\n",
    "    num=testData.shape[0]/batchsize\n",
    "    count=0\n",
    "    acc=0\n",
    "    \n",
    "    for data,label in tqdm(DataBatch(testData,testLabels,batchsize,shuffle=False),total=len(testData)//batchsize):\n",
    "        \"\"\" ==========\n",
    "        YOUR CODE HERE\n",
    "        ========== \"\"\"\n",
    "        predictions = classifier(data)\n",
    "        for true_label, pred_label in zip(label, predictions):\n",
    "            M[true_label, pred_label] += 1\n",
    "            count += 1\n",
    "            if true_label == pred_label:\n",
    "                correct += 1\n",
    "\n",
    "    # Calculate accuracy - Uncomment following line if it is required by your solution above\n",
    "    acc = correct / count * 100.0\n",
    "    \n",
    "    return M, acc\n",
    "    \n",
    "def VisualizeConfussion(M):\n",
    "    plt.figure(figsize=(14, 6))\n",
    "    plt.imshow(M)\n",
    "    plt.show()\n",
    "    display(np.round(M,2))"
   ]
  },
  {
   "cell_type": "code",
   "execution_count": 355,
   "metadata": {
    "id": "suvefA82l4tv"
   },
   "outputs": [
    {
     "name": "stderr",
     "output_type": "stream",
     "text": [
      "4it [00:00, 4000.29it/s]                                                                                               \n"
     ]
    },
    {
     "data": {
      "image/png": "[encoded data removed]",
      "text/plain": [
       "<Figure size 1400x600 with 1 Axes>"
      ]
     },
     "metadata": {},
     "output_type": "display_data"
    },
    {
     "data": {
      "text/plain": [
       "array([[16.,  0.,  0.,  0.,  0.,  0.,  0.,  0.,  0.,  0.],\n",
       "       [ 0., 17.,  0.,  0.,  1.,  0.,  0.,  0.,  1.,  0.],\n",
       "       [ 0.,  0., 17.,  0.,  0.,  0.,  0.,  0.,  0.,  0.],\n",
       "       [ 0.,  0.,  0., 12.,  0.,  2.,  0.,  0.,  4.,  0.],\n",
       "       [ 0.,  0.,  0.,  0., 18.,  0.,  0.,  0.,  0.,  2.],\n",
       "       [ 0.,  0.,  0.,  0.,  0., 18.,  0.,  0.,  0.,  0.],\n",
       "       [ 0.,  0.,  0.,  0.,  0.,  0., 18.,  0.,  0.,  0.],\n",
       "       [ 0.,  0.,  0.,  0.,  0.,  0.,  0., 19.,  0.,  0.],\n",
       "       [ 0.,  0.,  0.,  0.,  0.,  0.,  0.,  0., 17.,  0.],\n",
       "       [ 0.,  0.,  0.,  1.,  0.,  0.,  0.,  0.,  0., 17.]])"
      ]
     },
     "metadata": {},
     "output_type": "display_data"
    }
   ],
   "source": [
    "# TEST/PLOT CODE: DO NOT CHANGE\n",
    "# TEST LogisticRegressionClassifier\n",
    "\n",
    "M,acc = Confusion(X_test, y_test, lrClassifierX)\n",
    "VisualizeConfussion(M)"
   ]
  },
  {
   "cell_type": "code",
   "execution_count": 356,
   "metadata": {
    "id": "YWZFcKjal4tw"
   },
   "outputs": [
    {
     "name": "stderr",
     "output_type": "stream",
     "text": [
      "4it [00:00, 235.11it/s]                                                                                                \n"
     ]
    },
    {
     "data": {
      "image/png": "[encoded data removed]",
      "text/plain": [
       "<Figure size 1400x600 with 1 Axes>"
      ]
     },
     "metadata": {},
     "output_type": "display_data"
    },
    {
     "data": {
      "text/plain": [
       "array([[16.,  0.,  0.,  0.,  0.,  0.,  0.,  0.,  0.,  0.],\n",
       "       [ 0., 19.,  0.,  0.,  0.,  0.,  0.,  0.,  0.,  0.],\n",
       "       [ 0.,  0., 17.,  0.,  0.,  0.,  0.,  0.,  0.,  0.],\n",
       "       [ 0.,  0.,  1., 16.,  0.,  1.,  0.,  0.,  0.,  0.],\n",
       "       [ 0.,  0.,  0.,  0., 19.,  0.,  0.,  0.,  0.,  1.],\n",
       "       [ 0.,  0.,  0.,  0.,  0., 18.,  0.,  0.,  0.,  0.],\n",
       "       [ 0.,  0.,  0.,  0.,  0.,  0., 18.,  0.,  0.,  0.],\n",
       "       [ 0.,  0.,  0.,  0.,  0.,  0.,  0., 19.,  0.,  0.],\n",
       "       [ 0.,  1.,  0.,  0.,  0.,  0.,  0.,  0., 16.,  0.],\n",
       "       [ 0.,  0.,  0.,  1.,  0.,  1.,  0.,  0.,  0., 16.]])"
      ]
     },
     "metadata": {},
     "output_type": "display_data"
    }
   ],
   "source": [
    "# TEST/PLOT CODE: DO NOT CHANGE\n",
    "# TEST kNNClassifier\n",
    "\n",
    "M,acc = Confusion(X_test, y_test, knnClassifierX)\n",
    "VisualizeConfussion(M)"
   ]
  },
  {
   "cell_type": "markdown",
   "metadata": {
    "id": "0HnFGSRFl4tw"
   },
   "source": [
    "### Ζήτημα 1.5: κ-Κοντινότεροι Γείτονες (k-Nearest Neighbors/kNN) [4 μονάδες]"
   ]
  },
  {
   "cell_type": "markdown",
   "metadata": {
    "id": "1l8Vxkoil4tw"
   },
   "source": [
    "Για αυτό το πρόβλημα, θα ολοκληρώσετε έναν απλό ταξινομητή kNN χωρίς χρήση του πακέτου Sklearn. Η μέτρηση της απόστασης είναι η Ευκλείδεια απόσταση (L2 norm) στον χώρο των pixel, την οποία και θα πρέπει να υλοποιήσετε (`euclidean_distance`). Το $k$ αναφέρεται στον αριθμό των γειτόνων που συμμετέχουν στην ψηφοφορία για την ομάδα/κλάση. Έπειτα, θα πρέπει να υλοποιήσετε την `find_k_nearest_neighbors` που υπολογίζει την απόσταση του δοθέντος δείγματος από όλα τα δείγματα εκπαίδευσης, ταξινομεί τις αποστάσεις και επιστρέφει τους δείκτες των $k$ κοντινότερων γειτόνων. Τέλος, για κάθε δείγμα του συνόλου δοκιμών, μέσω της ρουτίνας `__call__` βρίσκετε τους $k$ κοντινότερους γείτονες και εκτελείτε \"ψηφοφορία\" για την προβλεπόμενη κλάση."
   ]
  },
  {
   "cell_type": "code",
   "execution_count": 357,
   "metadata": {
    "id": "C-D-znLZl4tx"
   },
   "outputs": [],
   "source": [
    "class kNNClassifier_v1_5():\n",
    "    def __init__(self, k=3):\n",
    "        self.k = k\n",
    "\n",
    "    def train(self, trainData, trainLabels):\n",
    "        \"\"\"Stores the training data.\"\"\"\n",
    "        self.X_train = trainData\n",
    "        self.y_train = trainLabels\n",
    "\n",
    "    def euclidean_distance(self, x1, x2):\n",
    "        \"\"\"Calculates the Euclidean distance between two vectors.\"\"\"\n",
    "        \n",
    "        \"\"\" ==========\n",
    "        YOUR CODE HERE\n",
    "        ========== \"\"\" \n",
    "        return np.sqrt(np.sum((x1 - x2) ** 2, axis = 1))\n",
    "\n",
    "    def find_k_nearest_neighbors(self, x):\n",
    "        \"\"\"\n",
    "        Finds the k nearest neighbors for the given x.\n",
    "\n",
    "        Returns:\n",
    "        - indices: Indices of the k nearest neighbors.\n",
    "        \"\"\"\n",
    "        \n",
    "        \"\"\" ==========\n",
    "        YOUR CODE HERE\n",
    "        ========== \"\"\"  \n",
    "        # Store distance and index\n",
    "        # Sort by distance\n",
    "        # Select the first k indices\n",
    "        distances = self.euclidean_distance(self.X_train, x)\n",
    "        indices = np.argsort(distances)[:self.k]\n",
    "        return indices\n",
    "\n",
    "    def __call__(self, X):\n",
    "        \"\"\"\n",
    "        Predicts the labels for the input data using the kNN method.\n",
    "\n",
    "        Input:\n",
    "        - X: Test data array (N, d=64), where N is the number of samples and d is the dimensionality.\n",
    "\n",
    "        Returns:\n",
    "        - predicted_labels: Array of predicted labels (N,).\n",
    "        \"\"\"  \n",
    "        predicted_labels = []\n",
    "        # For each nearest k\n",
    "        # Find the k nearest neighbors\n",
    "        # Store corresponding Labels of the k neighbors\n",
    "        # \"Vote\" for the most frequent label\n",
    "        \"\"\" ==========\n",
    "        YOUR CODE HERE\n",
    "        ========== \"\"\"     \n",
    "        for x in X:\n",
    "            neighbor_indices = self.find_k_nearest_neighbors(x)\n",
    "            #display(neighbor_indices)\n",
    "            neighbor_labels = self.y_train[neighbor_indices]\n",
    "            #display(neighbor_labels)\n",
    "            \n",
    "            #Βρισκουμε την τιμη με τις περισσοτερες εμφανησεις χρησιμοποιοντας το bincount\n",
    "            #και το argmax οπου μας δινει την μεγαλυτερη τιμη\n",
    "            predicted_label = np.bincount(neighbor_labels).argmax()\n",
    "            predicted_labels.append(predicted_label)\n",
    "            \n",
    "        return np.array(predicted_labels)"
   ]
  },
  {
   "cell_type": "code",
   "execution_count": 358,
   "metadata": {
    "id": "wPVvwhp0l4tx"
   },
   "outputs": [
    {
     "name": "stdout",
     "output_type": "stream",
     "text": [
      "kNN classifier accuracy: 96.666667\n"
     ]
    }
   ],
   "source": [
    "# TEST/PLOT CODE: DO NOT CHANGE\n",
    "# TEST kNNClassifierManual\n",
    "\n",
    "knnClassifierManualX = kNNClassifier_v1_5()\n",
    "knnClassifierManualX.train(X_train, y_train)\n",
    "print ('kNN classifier accuracy: %f'%test(X_test, y_test, knnClassifierManualX))"
   ]
  },
  {
   "cell_type": "markdown",
   "metadata": {
    "id": "jZQQIiKPnRQF"
   },
   "source": [
    "### Ζήτημα 1.6: PCA + κ-κοντινότεροι γείτονες (PCA/k-NN) [6 μονάδες] \n",
    "\n",
    "Σε αυτό το ζήτημα θα εφαρμόσετε έναν απλό ταξινομητή kNN, αλλά στον χώρο PCA, δηλαδή όχι τον χώρο των πίξελ, αλλά αυτόν\n",
    "που προκύπτει μετά από ανάλυση σε πρωτεύουσες συνιστώσες των εικόνων του συνόλου εκπαίδευσης (για k=3 και 25 πρωτεύουσες συνιστώσες).\n",
    "\n",
    "Θα πρέπει να υλοποιήσετε μόνοι σας την PCA χρησιμοποιώντας \"Singular Value Decomposition (SVD)\".\n",
    "Η χρήση του `sklearn.decomposition.PCA` ή οποιουδήποτε άλλου πακέτου που υλοποιεί άμεσα μετασχηματισμούς PCA **θα οδηγήσει σε μείωση μονάδων**. Μπορείτε να χρησιμοποιήσετε τη ρουτίνα `np.linalg.eigh` για την υλοποίησή σας. Προσοχή στον χειρισμό μηδενικών `singular values` μέσα στην υλοποίηση της `svd`.\n",
    "\n",
    "Μπορείτε να χρησιμοποιήσετε την προηγούμενη υλοποίηση του ταξινομητή `kNNClassifier_v1_5` σε αυτό το ζήτημα (Υπόδειξη: ορισμός πεδίου `self.knn = ...` μέσα στην `__init__`). Διαφορετικά, μπορείτε να υλοποιήσετε εκ νέου τον ταξινομητή kNN μέσα στην `__call__` με χρήση της `np.linalg.norm`. Μη ξεχάσετε να καλέσετε την προηγούμενη υλοποίηση του πίνακα σύγχυσης `Confusion` για την αξιολόγηση της μεθόδου στο τέλος του ζητήματος.\n",
    "\n",
    "Είναι ο χρόνος ελέγχου για τον ταξινομητή PCA-kNN μεγαλύτερος ή μικρότερος από αυτόν για τον ταξινομητή kNN; Εφόσον διαφέρει, **σχολιάστε** γιατί στο τέλος της άσκησης."
   ]
  },
  {
   "cell_type": "code",
   "execution_count": 359,
   "metadata": {
    "id": "e06z90dxm7Af",
    "tags": []
   },
   "outputs": [
    {
     "name": "stdout",
     "output_type": "stream",
     "text": [
      "PCA-kNN classifier accuracy: 85.000000\n"
     ]
    },
    {
     "name": "stderr",
     "output_type": "stream",
     "text": [
      "C:\\Users\\Nikos\\AppData\\Local\\Temp\\ipykernel_22152\\2311180162.py:24: RuntimeWarning: invalid value encountered in sqrt\n",
      "  singular_values = np.sqrt(eigen_values_AT_A)\n"
     ]
    }
   ],
   "source": [
    "def svd(A):\n",
    "    \"\"\" ==========\n",
    "    YOUR CODE HERE\n",
    "    ========== \"\"\"\n",
    "    \n",
    "    #Δεν ημουν σιγουρος εαν πρεπει να χρησιμοποιησουμε το np.linalg.svd ή να υλοποιησουμε τον αλγοριθμο\n",
    "    #απο την αρχη οποτε εχω και τις 2 εκδοχες\n",
    "    \n",
    "    #U, singular_values, V = np.linalg.svd(Α)\n",
    "    \n",
    "    #Υπολογιζουμε τα eigenvectors(U και V) βρισκοντας πρωτα τους πινακες AT^A και A^AT,\n",
    "    #βρισκουμε τον VT, τα singular_values και επιστρεφουμε τον πινακα U ως εχει\n",
    "    AT_A = np.dot(A.T, A)\n",
    "    A_AT = np.dot(A, A.T)\n",
    "    \n",
    "    eigen_values_AT_A, V = np.linalg.eigh(AT_A)\n",
    "    eigen_values_A_AT, U = np.linalg.eigh(A_AT)\n",
    "    \n",
    "    sorted_indices = np.argsort(eigen_values_AT_A)[::-1]\n",
    "    eigen_values_AT_A = eigen_values_AT_A[sorted_indices]\n",
    "    \n",
    "    V = V[:, sorted_indices]\n",
    "    \n",
    "    singular_values = np.sqrt(eigen_values_AT_A)\n",
    "    \n",
    "    U = U[:, sorted_indices]\n",
    "    \n",
    "    return U, singular_values, V.T\n",
    "\n",
    "        \n",
    "\n",
    "class PCAKNNClassifer():\n",
    "    def __init__(self, components=25, k=3):\n",
    "        \"\"\"\n",
    "        Initialize PCA kNN classifier\n",
    "\n",
    "        Inputs:\n",
    "        components: number of principal components\n",
    "        k: number of neighbors involved in voting\n",
    "        \"\"\"\n",
    "        \"\"\" ==========\n",
    "        YOUR CODE HERE\n",
    "        ========== \"\"\"\n",
    "        self.components = components\n",
    "        self.k = k\n",
    "        self.knn = kNNClassifier_v1_5()\n",
    "\n",
    "        \n",
    "    def train(self, trainData, trainLabels):\n",
    "        \"\"\"\n",
    "        Train your model with image data and corresponding labels.\n",
    "        \n",
    "        Inputs:\n",
    "        trainData: Training images (N,64)\n",
    "        trainLabels: Labels (N,)\n",
    "        \"\"\"\n",
    "        \n",
    "        \"\"\" ==========\n",
    "        YOUR CODE HERE\n",
    "        ========== \"\"\"\n",
    "        self.mean = np.mean(trainData, axis = 0)\n",
    "        X_hat = trainData - self.mean\n",
    "\n",
    "        # Perform SVD on centered data (mean-deviation form of data matrix)\n",
    "        U, D, V = svd(X_hat)\n",
    "        \"\"\" ==========\n",
    "        YOUR CODE HERE\n",
    "        ========== \"\"\"\n",
    "        self.V = V[:self.components]\n",
    "        \n",
    "        X_reduced = X_hat @ self.V.T\n",
    "        self.knn.train(X_reduced, trainLabels)\n",
    "\n",
    "        \n",
    "    def __call__(self, x):\n",
    "        \"\"\"\n",
    "        Predict the trained model on test data.\n",
    "\n",
    "        Inputs:\n",
    "        x: Test images (N,64)\n",
    "\n",
    "        Returns:\n",
    "        predicted labels (N,)\n",
    "        \"\"\"\n",
    "        \"\"\" ==========\n",
    "        YOUR CODE HERE\n",
    "        ========== \"\"\"\n",
    "        X_hat = x - self.mean\n",
    "        X_reduced = X_hat @ self.V.T\n",
    "        \n",
    "        return self.knn(X_reduced)\n",
    "    \n",
    "\n",
    "# test your classifier with only the first 100 training examples (use this\n",
    "# while debugging)\n",
    "pcaknnClassiferX = PCAKNNClassifer()\n",
    "pcaknnClassiferX.train(X_train[:100], y_train[:100])\n",
    "print ('PCA-kNN classifier accuracy: %f'%test(X_test, y_test, pcaknnClassiferX))"
   ]
  },
  {
   "cell_type": "code",
   "execution_count": 360,
   "metadata": {
    "id": "eSbD_cdeoOY5"
   },
   "outputs": [
    {
     "name": "stderr",
     "output_type": "stream",
     "text": [
      "4it [00:00, 176.02it/s]                                                                                                "
     ]
    },
    {
     "name": "stdout",
     "output_type": "stream",
     "text": [
      "PCA-kNN classifier accuracy: 96.666667\n"
     ]
    },
    {
     "name": "stderr",
     "output_type": "stream",
     "text": [
      "\n"
     ]
    },
    {
     "data": {
      "image/png": "[encoded data removed]",
      "text/plain": [
       "<Figure size 1400x600 with 1 Axes>"
      ]
     },
     "metadata": {},
     "output_type": "display_data"
    },
    {
     "data": {
      "text/plain": [
       "array([[16.,  0.,  0.,  0.,  0.,  0.,  0.,  0.,  0.,  0.],\n",
       "       [ 0., 19.,  0.,  0.,  0.,  0.,  0.,  0.,  0.,  0.],\n",
       "       [ 0.,  0., 17.,  0.,  0.,  0.,  0.,  0.,  0.,  0.],\n",
       "       [ 0.,  0.,  0., 16.,  0.,  1.,  0.,  0.,  1.,  0.],\n",
       "       [ 0.,  0.,  0.,  0., 20.,  0.,  0.,  0.,  0.,  0.],\n",
       "       [ 0.,  0.,  0.,  0.,  0., 18.,  0.,  0.,  0.,  0.],\n",
       "       [ 0.,  0.,  0.,  0.,  0.,  0., 18.,  0.,  0.,  0.],\n",
       "       [ 0.,  0.,  0.,  0.,  0.,  0.,  0., 19.,  0.,  0.],\n",
       "       [ 0.,  1.,  0.,  0.,  0.,  0.,  0.,  1., 15.,  0.],\n",
       "       [ 0.,  0.,  0.,  1.,  0.,  1.,  0.,  0.,  0., 16.]])"
      ]
     },
     "metadata": {},
     "output_type": "display_data"
    }
   ],
   "source": [
    "# test your classifier with all the training examples\n",
    "pcaknnClassifer = PCAKNNClassifer()\n",
    "pcaknnClassifer.train(X_train, y_train)\n",
    "# display confusion matrix for your PCA KNN classifier with all the training examples\n",
    "\"\"\" ==========\n",
    "YOUR CODE HERE\n",
    "========== \"\"\"\n",
    "M_pca,acc = Confusion(X_test, y_test, pcaknnClassifer)\n",
    "\n",
    "# Display the accuracy and visualize the confusion matrix\n",
    "print ('PCA-kNN classifier accuracy: %f'%test(X_test, y_test, pcaknnClassifer))\n",
    "VisualizeConfussion(M_pca)"
   ]
  },
  {
   "cell_type": "markdown",
   "metadata": {
    "id": "iuQfPRnEpM9c"
   },
   "source": [
    "- Σχολιασμός του χρόνου εκτέλεσης PCA-kNN σε σχέση με τον kNN.\n",
    "\n",
    "\"\"\" \n",
    "WRITE YOUR ANWSER HERE\n",
    "\"\"\"\n",
    "\n",
    "H εφαρμογη του PCA στον kNN τον κανει γρηγοροτερο σε αντιθεση με την απλη εκδοχη του kNN. Συγκεκριμενα μπορει να μην ειναι πολυ εμφανης η διαφορα στον χρονο ή ακομα και ο απλος kNN να ειναι πιο γρηγορος  οταν εχουμε μικρης διαστασης δεδομενα ωστοσο η διαφορα θα φανει οταν εχουμε εναν πολυ μεγαλο ογκο δεδομενων καθως ο PCA θα μειωσει σημαντικα την διασταση τους με αποτελεσμα ο kNN να κανει λιγοτερες συγκρισεις γεγονος που οδηγει στην μειωση του υπολογιστικου φορτου."
   ]
  },
  {
   "cell_type": "markdown",
   "metadata": {
    "id": "R8ol8VCDpV8Q"
   },
   "source": [
    "## Άσκηση 2: Βαθιά Μάθηση [15 μονάδες + bonus 5 μονάδες (ζήτημα 2.5)]\n"
   ]
  },
  {
   "cell_type": "markdown",
   "metadata": {
    "id": "aYf3GsdmpfvS"
   },
   "source": [
    "### Ζήτημα 2.1 Αρχική Εγκατάσταση (απεικόνιση παραδειγμάτων) [1 μονάδα]\n",
    "\n",
    "- **Τοπικά** (jupyter):\n",
    "Ακολουθήστε τις οδηγίες στη διεύθυνση https://pytorch.org/get-started/locally/ για να εγκαταστήσετε την PyΤorch τοπικά στον υπολογιστή σας.\n",
    "Για παράδειγμα, αφού δημιουργήσετε και ενεργοποιήσετε κάποιο εικονικό περιβάλλον anaconda με τις εντολές: π.χ. `(base)$ conda create -n askisi`, `(base)$ conda activate askisi`, η εντολή `(askisi)$ conda install pytorch torchvision torchaudio cpuonly -c pytorch` εγκαθιστά την βιβλιοθήκη \"PyTorch\" σε περιβάλλον Linux/Windows χωρίς GPU υποστήριξη.\n",
    "\n",
    "**Προσοχή** σε αυτό το σημείο, αν τρέχετε την άσκηση τοπικά σε jupyter, εκτός της εγκατάστασης του PyTorch, θα χρειαστούν ξανά και κάποιες βιβλιοθήκες `matplotlib`, `scipy`, `tqdm` και `sklearn` (όπως και στην 1η άσκηση), μέσα στο περιβάλλον 'askisi', πριν ανοίξετε το jupyter: `(askisi)$ conda install matplotlib tqdm scipy` και `(askisi)$ conda install -c anaconda scikit-learn`. Αυτό χρειάζεται διότι σε ορισμένες περιπτώσεις, αφού εγκαταστήσετε τις βιβλιοθήκες που απαιτούνται, πρέπει να εξασφαλίσετε ότι ο *Python Kernel* αναγνωρίζει την προϋπάρχουσα εγκατάσταση (PyTorch, matplotlib, tqdm, κτλ.).\n",
    "Τέλος, χρειάζεται να εγκαταστήσετε το jupyter ή jupyterlab μέσω του περιβάλλοντος conda: `(askisi)$ conda install jupyter` και μετά να εκτελέσετε `(askisi)$ jupyter notebook` για να ανοίξετε το jupyter με τη σωστή εγκατάσταση. Αν όλα έχουν γίνει σωστά, θα πρέπει ο *Python Kernel* να βλέπει όλα τα 'modules' που χρειάζεστε στη 2η άσκηση. Διαφορετικά, μπορείτε να εγκαταστήσετε εξ' αρχής όλες τις βιβλιοθήκες, από την αρχή υλοποίησης της εργασίας, μέσα στο εικονικό περιβάλλον *askisi* ώστε να μην είναι απαραίτητη εκ νέου η εγκατάσταση των βιβλιοθηκών που θα χρειαστούν στη 2η άσκηση.\n",
    "\n",
    "- **Colab**: **Αν** χρησιμοποιείτε google colab, τότε δεν θα χρειαστεί λογικά κάποιο βήμα εγκατάστασης. Αν ωστόσο σας παρουσιαστεί κάποιο πρόβλημα με απουσία πακέτου, π.χ. \"ModuleNotFoundError - torchvision\", τότε μπορείτε απλώς να το εγκαταστήσετε με χρήση του εργαλείου `pip` εκτελώντας την αντίστοιχη εντολή (π.χ. \"!pip install torchvision\") σε ένα νέο κελί του notebook.\n",
    "\n",
    "Σημείωση: Δεν θα είναι απαραίτητη η χρήση GPU για αυτήν την άσκηση, γι' αυτό μην ανησυχείτε αν δεν έχετε ρυθμίσει την εγκατάσταση με υποστήριξη GPU. Επιπλέον, η εγκατάσταση με υποστήριξη GPU είναι συχνά πιο δύσκολη στη διαμόρφωση, γι' αυτό και προτείνεται να εγκαταστήσετε μόνο την έκδοση CPU. \n",
    "\n",
    "Εκτελέστε τις παρακάτω εντολές για να επαληθεύσετε την εγκατάστασή σας (PyTorch)."
   ]
  },
  {
   "cell_type": "code",
   "execution_count": 361,
   "metadata": {
    "id": "nQC44M9Rp1VR"
   },
   "outputs": [
    {
     "name": "stdout",
     "output_type": "stream",
     "text": [
      "tensor([[0.3603, 0.7239, 0.7514],\n",
      "        [0.9908, 0.8865, 0.0638],\n",
      "        [0.1642, 0.9821, 0.0743],\n",
      "        [0.6392, 0.8101, 0.5212],\n",
      "        [0.1866, 0.3438, 0.0429]])\n"
     ]
    }
   ],
   "source": [
    "import scipy\n",
    "import torch.nn as nn\n",
    "import torch.nn.functional as F\n",
    "import torch\n",
    "from torch.autograd import Variable\n",
    "\n",
    "# create a tensor of 5x3 random-valued array\n",
    "x = torch.rand(5, 3)\n",
    "print(x)"
   ]
  },
  {
   "cell_type": "markdown",
   "metadata": {
    "id": "Ai7Lktn5tLBz"
   },
   "source": [
    "Σε αυτή την άσκηση, θα χρησιμοποιήσουμε το πλήρες σύνολο δεδομένων της βάσης δεδομένων MNIST με τις εικόνες ψηφίων 28x28 pixel (60.000 εικόνες εκπαίδευσης, 10.000 εικόνες ελέγχου).\n",
    "\n",
    "Ο κώδικας που ακολουθεί \"κατεβάζει\" το σύνολο δεδομένων MNIST της κλάσης [torchvision.datasets](https://pytorch.org/vision/main/generated/torchvision.datasets.MNIST.html#torchvision.datasets.MNIST), στο φάκελο `mnist` (του root καταλόγου). \n",
    "Μπορείτε να αλλάξετε τον κατάλογο που δείχνει η μεταβλητή `path` στη διαδρομή που επιθυμείτε. Ενδεικτικό `path` σε περιβάλλον Windows: **path = 'C:/Users/user/Υπολογιστική Όραση/assignments/assignment/'**. Στην περίπτωση που εργάζεστε μέσω **colab** μπορεί να χρειαστεί η φόρτωση του καταλόγου στο drive, εκτελώντας `from google.colab import drive` και `drive.mount('/content/gdrive')` και μετά θέτοντας π.χ το **path = '/content/gdrive/assignment/'**.\n",
    "\n",
    "- Θα πρέπει να απεικονίσετε σε ένα σχήμα 2x5 ένα τυχαίο παράδειγμα εικόνας που αντιστοιχεί σε κάθε ετικέτα (κατηγορία) από τα δεδομένα εκπαίδευσης (αντίστοιχα του ζητήματος 1.2)."
   ]
  },
  {
   "cell_type": "code",
   "execution_count": 362,
   "metadata": {
    "scrolled": true
   },
   "outputs": [],
   "source": [
    "import torch\n",
    "import torchvision.datasets as datasets\n",
    "\n",
    "# import additional libs in case not already done in 'askisi 1'\n",
    "import matplotlib.pyplot as plt\n",
    "import numpy as np\n",
    "\n",
    "# Define the dataset directory\n",
    "path = './mnist/'\n",
    "\n",
    "# Load the MNIST training dataset\n",
    "train_dataset = datasets.MNIST(root=path, train=True, download=True)\n",
    "\n",
    "# Extract the images and labels from the training dataset\n",
    "X_train = train_dataset.data.numpy()\n",
    "y_train = train_dataset.targets.numpy()\n",
    "\n",
    "# Load the MNIST testing dataset\n",
    "test_dataset = datasets.MNIST(root=path, train=False, download=True)\n",
    "\n",
    "# Extract the images and labels from the testing dataset\n",
    "X_test = test_dataset.data.numpy()\n",
    "y_test = test_dataset.targets.numpy()\n"
   ]
  },
  {
   "cell_type": "code",
   "execution_count": 363,
   "metadata": {
    "id": "E5tK3MeXN5v2"
   },
   "outputs": [],
   "source": [
    "def plot_mnist_sample_high_res(X_train, y_train):\n",
    "    \"\"\"\n",
    "    This function plots a sample image for each category,\n",
    "    The result is a figure with 2x5 grid of images.\n",
    "    \n",
    "    \"\"\"\n",
    "    \"\"\" ==========\n",
    "    YOUR CODE HERE\n",
    "    ========== \"\"\"\n",
    "    fig, axes = plt.subplots(2, 5, figsize = (10, 5))\n",
    "    samples = {}\n",
    "\n",
    "    #Γινεται επιλογη μιας τυχαιας εικονας απο καθε κατηγορια.\n",
    "    #Βρισκω τις θεσεις των εικονων που ανηκουν στην κατηγορια label, γινεται επιλογη μιας τυχαιας θεσης\n",
    "    #και τελος αποθηκευση της εικονας.\n",
    "    for label in range(10):\n",
    "        indices = np.where(y_train == label)[0]\n",
    "        random_index = np.random.choice(indices)\n",
    "        samples[label] = X_train[random_index]\n",
    "\n",
    "    for x, (label, image) in enumerate(samples.items()):\n",
    "        ax = axes[x // 5, x % 5]\n",
    "        #Γινεται η χρηση της συναρτησης squeeze() διοτι οι εικονες ειχαν διαστασεις (1, 28, 28) γεγονος που \n",
    "        #δεν αφηνε το να γινει το plot τους.\n",
    "        ax.imshow(image.squeeze(), cmap = \"gray\")\n",
    "        ax.set_title(f\"Label: {label}\")\n",
    "        ax.axis(\"off\")\n",
    "\n",
    "    plt.tight_layout()\n",
    "    plt.show()\n",
    "    "
   ]
  },
  {
   "cell_type": "code",
   "execution_count": 364,
   "metadata": {
    "id": "BNCBDoFnN8B5"
   },
   "outputs": [
    {
     "data": {
      "image/png": "[encoded data removed]",
      "text/plain": [
       "<Figure size 1000x500 with 10 Axes>"
      ]
     },
     "metadata": {},
     "output_type": "display_data"
    }
   ],
   "source": [
    "# PLOT CODE: DO NOT CHANGE\n",
    "# This code is for you to plot the results.\n",
    "\n",
    "plot_mnist_sample_high_res(X_train, y_train)"
   ]
  },
  {
   "cell_type": "markdown",
   "metadata": {
    "id": "6Wu-weDbqEAY"
   },
   "source": [
    "### Ζήτημα 2.2:  Εκπαίδευση Νευρωνικού Δικτύου με PyTorch [5 μονάδες]\n",
    "Ακολουθεί ένα τμήμα βοηθητικού κώδικα για την εκπαίδευση των βαθιών νευρωνικών δικτύων (Deep Neural Networks - DNN).\n",
    "\n",
    "- Ολοκληρώστε τη συνάρτηση train_net() για το παρακάτω DNN.\n",
    "\n",
    "Θα πρέπει να συμπεριλάβετε τις λειτουργίες της διαδικασίας της εκπαίδευσης σε αυτή τη συνάρτηση. Αυτό σημαίνει ότι για μια παρτίδα/υποσύνολο δεδομένων (batch μεγέθους 50) πρέπει να αρχικοποιήσετε τις παραγώγους, να υλοποιήσετε τη διάδοση προς τα εμπρός της πληροφορίας (forward propagation), να υπολογίσετε το σφάλμα εκτίμησης, να κάνετε οπισθοδιάδοση της πληροφορίας (μετάδοση προς τα πίσω των παραγώγων σφάλματος ως προς τα βάρη - backward propagation), και τέλος, να ενημερώσετε τις παραμέτρους (weight update). Θα πρέπει να επιλέξετε μια κατάλληλη συνάρτηση απώλειας και βελτιστοποιητή (optimizer) από την βιβλιοθήκη PyTorch για αυτό το πρόβλημα.\n",
    "\n",
    "Αυτή η συνάρτηση θα χρησιμοποιηθεί στα επόμενα ζητήματα με διαφορετικά δίκτυα. Θα μπορείτε δηλαδή να χρησιμοποιήσετε τη μέθοδο `train_net` για να εκπαιδεύσετε το βαθύ νευρωνικό σας δίκτυο, εφόσον προσδιορίσετε τη συγκεκριμένη αρχιτεκτονική σας και εφαρμόσετε το `forward pass` σε μια υπο/κλάσση της DNN (βλ. παράδειγμα \"LinearClassifier(DNN)\").\n",
    "Μπορείτε να ανατρέξετε στη διεύθυνση https://pytorch.org/tutorials/beginner/pytorch_with_examples.html για περισσότερες πληροφορίες.\n",
    "Επίσης, ένα αρκετά χρήσιμο \"tutorial\" περιλαμβάνεται στο σημειωματάριο jupyter `(tutorial1_pytorch_introduction.ipynb)` στο φάκελο της αναρτημένης εργασίας στη σελίδα ecourse του μαθήματος.\n",
    "\n",
    "Στο τέλος, μπορείτε να χρησιμοποιήσετε την υφιστάμενη υλοποίηση από την 1η άσκηση για την αξιολόγηση της απόδοσης (`Confusion` και `VisualizeConfussion`)."
   ]
  },
  {
   "cell_type": "code",
   "execution_count": 365,
   "metadata": {
    "id": "Ky0FksEwqDta"
   },
   "outputs": [],
   "source": [
    "# base class for your deep neural networks. It implements the training loop (train_net).\n",
    "\n",
    "\n",
    "import torch.nn.init\n",
    "import torch.optim as optim\n",
    "from torch.autograd import Variable\n",
    "from torch.nn.parameter import Parameter\n",
    "from tqdm import tqdm\n",
    "from scipy.stats import truncnorm\n",
    "\n",
    "class DNN(nn.Module):\n",
    "    def __init__(self):\n",
    "        super(DNN, self).__init__()\n",
    "        pass\n",
    "    \n",
    "    def forward(self, x):\n",
    "        raise NotImplementedError\n",
    "    \n",
    "    def train_net(self, X_train, y_train, epochs=1, batchSize=50):\n",
    "        \"\"\" ==========\n",
    "        YOUR CODE HERE\n",
    "        ========== \"\"\"\n",
    "        # criterion selection, i.e, loss function\n",
    "        # optimizer selection, using `optim.`\n",
    "        losses = []\n",
    "        criterion = nn.CrossEntropyLoss()\n",
    "        optimizer = optim.SGD(self.parameters(), lr = 0.01)\n",
    "\n",
    "        #μετατροπη των x_train, y_train σε pytorch tensors ωστε να γινει η χρηση της Variable\n",
    "        X_train_tensor = torch.FloatTensor(X_train)\n",
    "        y_train_tensor = torch.LongTensor(y_train)\n",
    "        # For each epoch\n",
    "        for epoch in range (epochs):\n",
    "            sum_loss = 0.0 \n",
    "          # For each batch\n",
    "            for batch in range (0, X_train.shape[0], batchSize):\n",
    "                inputs = X_train_tensor[batch:batch + batchSize]\n",
    "                labels = y_train_tensor[batch:batch + batchSize]\n",
    "          # Assign inputs and labels using PyTorch's autograd package via Variable\n",
    "                inputs = Variable(inputs)\n",
    "                labels = Variable(labels)\n",
    "          # Forward pass\n",
    "                optimizer.zero_grad()\n",
    "                outputs = self.forward(inputs)\n",
    "                loss = criterion(outputs, labels)\n",
    "          # Backward pass\n",
    "                loss.backward()\n",
    "          # Weight update\n",
    "                optimizer.step()\n",
    "          # Final loss\n",
    "                losses.append(loss.item())\n",
    "                sum_loss += loss.item()\n",
    "                \n",
    "        return losses\n",
    "    \n",
    "    def __call__(self, x):\n",
    "        inputs = Variable(torch.FloatTensor(x))\n",
    "        prediction = self.forward(inputs)\n",
    "        return np.argmax(prediction.data.cpu().numpy(), 1)\n",
    "\n",
    "# helper function to get weight variable\n",
    "def weight_variable(shape):\n",
    "    initial = torch.Tensor(truncnorm.rvs(-1/0.01, 1/0.01, scale=0.01, size=shape))\n",
    "    return Parameter(initial, requires_grad=True)\n",
    "\n",
    "# helper function to get bias variable\n",
    "def bias_variable(shape):\n",
    "    initial = torch.Tensor(np.ones(shape)*0.1)\n",
    "    return Parameter(initial, requires_grad=True)"
   ]
  },
  {
   "cell_type": "code",
   "execution_count": 366,
   "metadata": {
    "id": "2HYVuzbtosJo"
   },
   "outputs": [],
   "source": [
    "# example linear classifier - input connected to output\n",
    "# you can take this as an example to learn how to extend DNN class\n",
    "class LinearClassifier(DNN):\n",
    "    def __init__(self, in_features=28*28, classes=10):\n",
    "        super(LinearClassifier, self).__init__()\n",
    "        # in_features=28*28\n",
    "        self.weight1 = weight_variable((classes, in_features))\n",
    "        self.bias1 = bias_variable((classes))\n",
    "    \n",
    "    def forward(self, x):\n",
    "        # linear operation\n",
    "        y_pred = torch.addmm(self.bias1, x.view(list(x.size())[0], -1), self.weight1.t())\n",
    "        return y_pred\n",
    "\n",
    "#X_train=np.float32(np.expand_dims(X_train,-1))/255\n",
    "#X_train=X_train.transpose((0,3,1,2))\n",
    "\n",
    "#X_test=np.float32(np.expand_dims(X_test,-1))/255\n",
    "#X_test=X_test.transpose((0,3,1,2))\n",
    "\n",
    "## In case abovementioned 4 lines return error: Modify the lines for transposing X_train\n",
    "## and X_test by uncommenting the following 4 lines and place the 4 lines above in comments\n",
    "\n",
    "X_train = np.float32(X_train) / 255.0\n",
    "X_train = X_train.reshape(-1, 1, 28, 28)\n",
    "\n",
    "X_test = np.float32(X_test) / 255.0\n",
    "X_test = X_test.reshape(-1, 1, 28, 28)"
   ]
  },
  {
   "cell_type": "code",
   "execution_count": 367,
   "metadata": {
    "id": "J-UGSj6FqRKf"
   },
   "outputs": [
    {
     "name": "stdout",
     "output_type": "stream",
     "text": [
      "Linear classifier accuracy: 91.130000\n"
     ]
    },
    {
     "data": {
      "image/png": "[encoded data removed]",
      "text/plain": [
       "<Figure size 640x480 with 1 Axes>"
      ]
     },
     "metadata": {},
     "output_type": "display_data"
    }
   ],
   "source": [
    "# test the example linear classifier (note you should get around 90% accuracy\n",
    "# for 10 epochs and batchsize 50)\n",
    "linearClassifier = LinearClassifier()\n",
    "losses = linearClassifier.train_net(X_train, y_train, epochs=10)\n",
    "\n",
    "#Το plot ειναι κυριως για testing οτι υπαρχει μειωση στο loss\n",
    "\"\"\"Υπαρχει ενα μικρο προβλημα που δεν ξερω γιατι γινεται αλλα στην αρχη ειχε περιπου 10% accuracy\"\"\"\n",
    "plt.plot(losses)\n",
    "\n",
    "print ('Linear classifier accuracy: %f'%test(X_test, y_test, linearClassifier))"
   ]
  },
  {
   "cell_type": "code",
   "execution_count": 368,
   "metadata": {
    "id": "8RA5688oyNTu"
   },
   "outputs": [
    {
     "name": "stderr",
     "output_type": "stream",
     "text": [
      "100%|██████████████████████████████████████████████████████████████████████████████| 200/200 [00:00<00:00, 6550.48it/s]\n"
     ]
    },
    {
     "data": {
      "image/png": "[encoded data removed]",
      "text/plain": [
       "<Figure size 1400x600 with 1 Axes>"
      ]
     },
     "metadata": {},
     "output_type": "display_data"
    },
    {
     "data": {
      "text/plain": [
       "array([[9.57e+02, 0.00e+00, 2.00e+00, 2.00e+00, 0.00e+00, 5.00e+00,\n",
       "        1.00e+01, 1.00e+00, 3.00e+00, 0.00e+00],\n",
       "       [0.00e+00, 1.10e+03, 2.00e+00, 4.00e+00, 1.00e+00, 2.00e+00,\n",
       "        4.00e+00, 1.00e+00, 2.10e+01, 0.00e+00],\n",
       "       [1.10e+01, 7.00e+00, 8.96e+02, 1.70e+01, 1.50e+01, 1.00e+00,\n",
       "        1.60e+01, 1.80e+01, 4.20e+01, 9.00e+00],\n",
       "       [5.00e+00, 1.00e+00, 1.90e+01, 9.05e+02, 1.00e+00, 3.00e+01,\n",
       "        3.00e+00, 1.50e+01, 2.10e+01, 1.00e+01],\n",
       "       [1.00e+00, 3.00e+00, 6.00e+00, 1.00e+00, 9.11e+02, 1.00e+00,\n",
       "        1.00e+01, 1.00e+00, 8.00e+00, 4.00e+01],\n",
       "       [1.10e+01, 4.00e+00, 2.00e+00, 3.70e+01, 1.10e+01, 7.60e+02,\n",
       "        1.60e+01, 1.10e+01, 3.10e+01, 9.00e+00],\n",
       "       [1.50e+01, 3.00e+00, 5.00e+00, 2.00e+00, 1.30e+01, 1.70e+01,\n",
       "        9.00e+02, 1.00e+00, 2.00e+00, 0.00e+00],\n",
       "       [3.00e+00, 1.50e+01, 2.30e+01, 7.00e+00, 8.00e+00, 0.00e+00,\n",
       "        0.00e+00, 9.34e+02, 3.00e+00, 3.50e+01],\n",
       "       [7.00e+00, 9.00e+00, 8.00e+00, 2.50e+01, 8.00e+00, 2.50e+01,\n",
       "        1.30e+01, 1.50e+01, 8.52e+02, 1.20e+01],\n",
       "       [1.10e+01, 7.00e+00, 5.00e+00, 1.10e+01, 3.90e+01, 1.10e+01,\n",
       "        0.00e+00, 2.10e+01, 6.00e+00, 8.98e+02]])"
      ]
     },
     "metadata": {},
     "output_type": "display_data"
    }
   ],
   "source": [
    "# display confusion matrix\n",
    "\"\"\" ==========\n",
    "YOUR CODE HERE\n",
    "========== \"\"\"\n",
    "linear_classifier,acc = Confusion(X_test, y_test, linearClassifier)\n",
    "\n",
    "# Display the accuracy and visualize the confusion matrix\n",
    "VisualizeConfussion(linear_classifier)"
   ]
  },
  {
   "cell_type": "markdown",
   "metadata": {
    "id": "mNzcCiLr0AU8"
   },
   "source": [
    "### Ζήτημα 2.3: Οπτικοποίηση Βαρών (Visualizing Weights of Single Layer Perceptron) [3 μονάδες]\n",
    "Αυτός ο απλός γραμμικός ταξινομητής που υλοποιείται στο παραπάνω κελί (το μοντέλο απλά επιστρέφει ένα γραμμικό συνδυασμό της εισόδου) παρουσιάζει ήδη αρκετά καλά αποτελέσματα.\n",
    "\n",
    "- Σχεδιάστε τα βάρη του φίλτρου που αντιστοιχούν σε κάθε κατηγορία εξόδου (τα **βάρη**/weights, όχι τους όρους *bias*) ως εικόνες. Κανονικοποιήστε τα βάρη ώστε να βρίσκονται μεταξύ 0 και 1 ( $z_i = \\frac{w_i - min(w)}{max(w) – min(w)}$ ). Χρησιμοποιήστε έγχρωμους χάρτες όπως \"inferno\" ή \"plasma\" για καλά αποτελέσματα (π.χ. cmap='inferno', ως όρισμα της imshow()).\n",
    "\n",
    "- Σχολιάστε με τι μοιάζουν τα βάρη και γιατί μπορεί να συμβαίνει αυτό.\n"
   ]
  },
  {
   "cell_type": "code",
   "execution_count": 369,
   "metadata": {
    "id": "Q8S3dYZgzzT_"
   },
   "outputs": [
    {
     "data": {
      "image/png": "[encoded data removed]",
      "text/plain": [
       "<Figure size 640x480 with 10 Axes>"
      ]
     },
     "metadata": {},
     "output_type": "display_data"
    }
   ],
   "source": [
    "# Plot filter weights corresponding to each class, you may have to reshape them to make sense out of them\n",
    "# linearClassifier.weight1.data will give you the first layer weights\n",
    "\"\"\" ==========\n",
    "YOUR CODE HERE\n",
    "========== \"\"\"\n",
    "\n",
    "#Διαβαζουμε τα βαρη απο το πρωτο layer χωρις τα biases και τα κανονικοποιουμε για να ειναι στο διαστημα [0,1]\n",
    "weights = linearClassifier.weight1.data\n",
    "normalized_weights = (weights - weights.min()) / (weights.max() - weights.min()) \n",
    "\n",
    "fig, axes = plt.subplots(2, 5)\n",
    "axes = axes.flatten()\n",
    "\n",
    "for i, ax in enumerate(axes):\n",
    "    #Αποθηκευουμε την εικονα με συγκεκριμενες διαστασεις\n",
    "    image = normalized_weights[i].reshape(28, 28)\n",
    "    im = ax.imshow(image, cmap = \"inferno\")\n",
    "    ax.axis(\"off\")\n",
    "\n",
    "plt.tight_layout()\n",
    "plt.show()"
   ]
  },
  {
   "cell_type": "markdown",
   "metadata": {
    "id": "zmQUOBNg0PkW",
    "jp-MarkdownHeadingCollapsed": true
   },
   "source": [
    "#### Σχολιασμός των βαρών\n",
    "\n",
    "Τα βαρη που απεικονιζονται φαινεται να ειναι μια θολη εκδοχη των ψηφιων που προσπαθει να ταξινομισει το μοντελο. Αυτο φαινεται να γινεται διοτι το μοντελο μας μαθαινει χρησιμοποιοντας μονο γραμμικους συνδιασμους και επιπλεον δεν απεικονιζουμε τα βαρη μαζι με το bias. Εαν χρησιμοποιουσαμε εναν classifier ο οποιος ειχε την δυνατοτητα να εκτελει πιο περιπλοκους υπολογισμους οπως ο kNN classifier πιθανοτατα να βλεπαμε μια πιο \"καθαρη\" εικονα των βαρων."
   ]
  },
  {
   "cell_type": "markdown",
   "metadata": {
    "id": "gJBWgsBE0S7K"
   },
   "source": [
    "### Ζήτημα 2.4: Νευρωνικό δίκτυο πολλαπλών επιπέδων - Multi Layer Perceptron (MLP) [6 μονάδες]\n",
    "Θα υλοποιήσετε ένα MLP νευρωνικό δίκτυο. Το MLP θα πρέπει να αποτελείται από 2 επίπεδα (πολλαπλασιασμός βάρους και μετατόπιση μεροληψίας/bias - γραμμικός συνδυασμός εισόδου) που απεικονίζονται (map) στις ακόλουθες διαστάσεις χαρακτηριστικών:\n",
    "\n",
    "* 28x28 -> hidden (50)\n",
    "* hidden (50) -> classes\n",
    "\n",
    "* Το κρυμμένο επίπεδο πρέπει να ακολουθείται από μια μη γραμμική συνάρτηση ενεργοποίησης ReLU. Το τελευταίο επίπεδο δεν θα πρέπει να έχει εφαρμογή μη γραμμικής απεικόνισης καθώς επιθυμούμε την έξοδο ακατέργαστων 'logits' (στη μηχανική μάθηση, τα logits είναι οι τιμές που παράγονται από το τελικό επίπεδο ενός μοντέλου πριν περάσουν από μια συνάρτηση ενεργοποίησης softmax. Αντιπροσωπεύουν τις προβλέψεις του μοντέλου για κάθε κατηγορία χωρίς να μετατρέπονται σε πιθανότητες).\n",
    "* Η τελική έξοδος του υπολογιστικού γράφου (μοντέλου) θα πρέπει να αποθηκευτεί στο self.y καθώς θα χρησιμοποιηθεί στην εκπαίδευση.\n",
    "* Θα πρέπει να χρησιμοποιήσετε τις helper ρουτίνες `weight_variable` και `bias_variable` στην υλοποίησή σας.\n",
    "\n",
    "**Εμφανίστε τον πίνακα σύγχυσης** (confusion matrix - υλοποίηση 1ης άσκησης) και την ακρίβεια (accuracy) μετά την εκπαίδευση. Σημείωση: Θα πρέπει να έχετε ~95-97% ακρίβεια για 10 εποχές (epochs) και μέγεθος παρτίδας (batch size) 50.\n",
    "\n",
    "**Απεικονίστε τα βάρη** του φίλτρου που αντιστοιχούν στην αντιστοίχιση από τις εισόδους στις πρώτες 10 εξόδους του κρυμμένου επιπέδου (από τις 50 συνολικά). Μοιάζουν τα βάρη αυτά καθόλου με τα βάρη που απεικονίστηκαν στο προηγούμενο ζήτημα; Γιατί ή γιατί όχι?\n",
    "\n",
    "Αναμένεται ότι το μοντέλο εκπαίδευσης θα διαρκέσει από 1 έως μερικά λεπτά για να τρέξει, ανάλογα με τις δυνατότητες της CPU."
   ]
  },
  {
   "cell_type": "code",
   "execution_count": 370,
   "metadata": {
    "collapsed": true,
    "id": "Ss2lUgpL0JRh",
    "jupyter": {
     "outputs_hidden": true
    },
    "scrolled": true
   },
   "outputs": [
    {
     "data": {
      "text/plain": [
       "[2.301619529724121,\n",
       " 2.298781156539917,\n",
       " 2.301335334777832,\n",
       " 2.3032331466674805,\n",
       " 2.300584316253662,\n",
       " 2.301699161529541,\n",
       " 2.3019065856933594,\n",
       " 2.301184892654419,\n",
       " 2.3002262115478516,\n",
       " 2.3000543117523193,\n",
       " 2.30207896232605,\n",
       " 2.3015406131744385,\n",
       " 2.300968647003174,\n",
       " 2.301673412322998,\n",
       " 2.300896644592285,\n",
       " 2.300847291946411,\n",
       " 2.3023319244384766,\n",
       " 2.301698684692383,\n",
       " 2.2997519969940186,\n",
       " 2.2994604110717773,\n",
       " 2.299346446990967,\n",
       " 2.2996768951416016,\n",
       " 2.298577070236206,\n",
       " 2.298844814300537,\n",
       " 2.302313804626465,\n",
       " 2.3012049198150635,\n",
       " 2.3000450134277344,\n",
       " 2.29653263092041,\n",
       " 2.300105571746826,\n",
       " 2.2977733612060547,\n",
       " 2.298042058944702,\n",
       " 2.3014461994171143,\n",
       " 2.298245668411255,\n",
       " 2.2970242500305176,\n",
       " 2.2957959175109863,\n",
       " 2.299520492553711,\n",
       " 2.297677993774414,\n",
       " 2.2970285415649414,\n",
       " 2.2974140644073486,\n",
       " 2.2981486320495605,\n",
       " 2.299393653869629,\n",
       " 2.2975618839263916,\n",
       " 2.2960214614868164,\n",
       " 2.2958791255950928,\n",
       " 2.2966578006744385,\n",
       " 2.2976016998291016,\n",
       " 2.2970728874206543,\n",
       " 2.2966737747192383,\n",
       " 2.2960681915283203,\n",
       " 2.29563045501709,\n",
       " 2.2951161861419678,\n",
       " 2.2938387393951416,\n",
       " 2.292999029159546,\n",
       " 2.299013137817383,\n",
       " 2.294783115386963,\n",
       " 2.2953054904937744,\n",
       " 2.295090436935425,\n",
       " 2.290839195251465,\n",
       " 2.2952029705047607,\n",
       " 2.2937498092651367,\n",
       " 2.295478582382202,\n",
       " 2.2986528873443604,\n",
       " 2.2927122116088867,\n",
       " 2.29734468460083,\n",
       " 2.2945220470428467,\n",
       " 2.2944746017456055,\n",
       " 2.2945327758789062,\n",
       " 2.2941367626190186,\n",
       " 2.292234182357788,\n",
       " 2.2926816940307617,\n",
       " 2.292273998260498,\n",
       " 2.2936415672302246,\n",
       " 2.292144536972046,\n",
       " 2.294612169265747,\n",
       " 2.290383815765381,\n",
       " 2.2921228408813477,\n",
       " 2.2939958572387695,\n",
       " 2.2918877601623535,\n",
       " 2.2924342155456543,\n",
       " 2.294795036315918,\n",
       " 2.2893238067626953,\n",
       " 2.2917373180389404,\n",
       " 2.2913992404937744,\n",
       " 2.2925877571105957,\n",
       " 2.287039279937744,\n",
       " 2.289796829223633,\n",
       " 2.287429094314575,\n",
       " 2.292853593826294,\n",
       " 2.293087959289551,\n",
       " 2.2886404991149902,\n",
       " 2.286430597305298,\n",
       " 2.286494731903076,\n",
       " 2.291196823120117,\n",
       " 2.2904677391052246,\n",
       " 2.288710832595825,\n",
       " 2.2901313304901123,\n",
       " 2.2943484783172607,\n",
       " 2.283766984939575,\n",
       " 2.2880871295928955,\n",
       " 2.2854247093200684,\n",
       " 2.284327507019043,\n",
       " 2.2864723205566406,\n",
       " 2.28395938873291,\n",
       " 2.288078546524048,\n",
       " 2.2850966453552246,\n",
       " 2.283113718032837,\n",
       " 2.280930995941162,\n",
       " 2.2847347259521484,\n",
       " 2.292384147644043,\n",
       " 2.2764394283294678,\n",
       " 2.2847723960876465,\n",
       " 2.281947374343872,\n",
       " 2.283170461654663,\n",
       " 2.280968427658081,\n",
       " 2.2880594730377197,\n",
       " 2.288987159729004,\n",
       " 2.285135507583618,\n",
       " 2.287370204925537,\n",
       " 2.285339832305908,\n",
       " 2.279710292816162,\n",
       " 2.279594898223877,\n",
       " 2.2820591926574707,\n",
       " 2.274352788925171,\n",
       " 2.2897205352783203,\n",
       " 2.281123161315918,\n",
       " 2.287055015563965,\n",
       " 2.2772340774536133,\n",
       " 2.285857915878296,\n",
       " 2.279465913772583,\n",
       " 2.286485195159912,\n",
       " 2.283738613128662,\n",
       " 2.276482343673706,\n",
       " 2.273242712020874,\n",
       " 2.28204345703125,\n",
       " 2.2779903411865234,\n",
       " 2.284121513366699,\n",
       " 2.290248155593872,\n",
       " 2.2788100242614746,\n",
       " 2.277653694152832,\n",
       " 2.2719826698303223,\n",
       " 2.276726007461548,\n",
       " 2.280277967453003,\n",
       " 2.2797796726226807,\n",
       " 2.2830328941345215,\n",
       " 2.288996696472168,\n",
       " 2.281904935836792,\n",
       " 2.2859694957733154,\n",
       " 2.2838945388793945,\n",
       " 2.2831592559814453,\n",
       " 2.279536724090576,\n",
       " 2.281066656112671,\n",
       " 2.276381015777588,\n",
       " 2.279851198196411,\n",
       " 2.2741191387176514,\n",
       " 2.2768850326538086,\n",
       " 2.284975528717041,\n",
       " 2.275125503540039,\n",
       " 2.270153522491455,\n",
       " 2.2711212635040283,\n",
       " 2.2715811729431152,\n",
       " 2.2721450328826904,\n",
       " 2.2586634159088135,\n",
       " 2.2717437744140625,\n",
       " 2.2626841068267822,\n",
       " 2.279390335083008,\n",
       " 2.2615625858306885,\n",
       " 2.272254228591919,\n",
       " 2.2629380226135254,\n",
       " 2.287986993789673,\n",
       " 2.269958734512329,\n",
       " 2.254063606262207,\n",
       " 2.277061939239502,\n",
       " 2.2811784744262695,\n",
       " 2.2674806118011475,\n",
       " 2.280390977859497,\n",
       " 2.2760238647460938,\n",
       " 2.2640979290008545,\n",
       " 2.271756649017334,\n",
       " 2.2594542503356934,\n",
       " 2.267976999282837,\n",
       " 2.2533481121063232,\n",
       " 2.26674747467041,\n",
       " 2.275468111038208,\n",
       " 2.260993480682373,\n",
       " 2.274094581604004,\n",
       " 2.257683753967285,\n",
       " 2.2686924934387207,\n",
       " 2.285390853881836,\n",
       " 2.255120038986206,\n",
       " 2.2497708797454834,\n",
       " 2.260150671005249,\n",
       " 2.2815096378326416,\n",
       " 2.2666845321655273,\n",
       " 2.246542453765869,\n",
       " 2.255786418914795,\n",
       " 2.2665464878082275,\n",
       " 2.261306047439575,\n",
       " 2.2530107498168945,\n",
       " 2.2615323066711426,\n",
       " 2.253871202468872,\n",
       " 2.2540571689605713,\n",
       " 2.264186143875122,\n",
       " 2.2558257579803467,\n",
       " 2.2656335830688477,\n",
       " 2.2463061809539795,\n",
       " 2.247809648513794,\n",
       " 2.2447240352630615,\n",
       " 2.254772186279297,\n",
       " 2.2604358196258545,\n",
       " 2.2515861988067627,\n",
       " 2.2494335174560547,\n",
       " 2.260669231414795,\n",
       " 2.2629332542419434,\n",
       " 2.2540578842163086,\n",
       " 2.2619478702545166,\n",
       " 2.2593958377838135,\n",
       " 2.242790460586548,\n",
       " 2.251209020614624,\n",
       " 2.2502410411834717,\n",
       " 2.259065628051758,\n",
       " 2.2212846279144287,\n",
       " 2.2351484298706055,\n",
       " 2.255206823348999,\n",
       " 2.254091262817383,\n",
       " 2.2472009658813477,\n",
       " 2.2391583919525146,\n",
       " 2.241384983062744,\n",
       " 2.2603931427001953,\n",
       " 2.241532564163208,\n",
       " 2.260841131210327,\n",
       " 2.2418925762176514,\n",
       " 2.2528257369995117,\n",
       " 2.246035099029541,\n",
       " 2.2413408756256104,\n",
       " 2.2522430419921875,\n",
       " 2.2380504608154297,\n",
       " 2.243267297744751,\n",
       " 2.2548928260803223,\n",
       " 2.2400166988372803,\n",
       " 2.242471694946289,\n",
       " 2.238340139389038,\n",
       " 2.2582993507385254,\n",
       " 2.2106666564941406,\n",
       " 2.2356629371643066,\n",
       " 2.228376626968384,\n",
       " 2.254751443862915,\n",
       " 2.236804962158203,\n",
       " 2.2411086559295654,\n",
       " 2.2497079372406006,\n",
       " 2.2422685623168945,\n",
       " 2.2288429737091064,\n",
       " 2.233733892440796,\n",
       " 2.253994941711426,\n",
       " 2.227969169616699,\n",
       " 2.218513011932373,\n",
       " 2.2302985191345215,\n",
       " 2.249316692352295,\n",
       " 2.2342710494995117,\n",
       " 2.232023239135742,\n",
       " 2.248459815979004,\n",
       " 2.22824764251709,\n",
       " 2.235858678817749,\n",
       " 2.2229106426239014,\n",
       " 2.2332396507263184,\n",
       " 2.1796884536743164,\n",
       " 2.234294891357422,\n",
       " 2.2523934841156006,\n",
       " 2.2293083667755127,\n",
       " 2.2345457077026367,\n",
       " 2.1936960220336914,\n",
       " 2.2183661460876465,\n",
       " 2.2136428356170654,\n",
       " 2.2159111499786377,\n",
       " 2.245422601699829,\n",
       " 2.22162127494812,\n",
       " 2.21147084236145,\n",
       " 2.2084920406341553,\n",
       " 2.212226629257202,\n",
       " 2.2283828258514404,\n",
       " 2.2353997230529785,\n",
       " 2.2243611812591553,\n",
       " 2.2078871726989746,\n",
       " 2.211937189102173,\n",
       " 2.1924431324005127,\n",
       " 2.2335219383239746,\n",
       " 2.2044739723205566,\n",
       " 2.194953441619873,\n",
       " 2.2338380813598633,\n",
       " 2.203240156173706,\n",
       " 2.217339515686035,\n",
       " 2.2273621559143066,\n",
       " 2.2023048400878906,\n",
       " 2.2403740882873535,\n",
       " 2.2336173057556152,\n",
       " 2.216310977935791,\n",
       " 2.2303905487060547,\n",
       " 2.2337729930877686,\n",
       " 2.191161870956421,\n",
       " 2.2077133655548096,\n",
       " 2.1996538639068604,\n",
       " 2.1843314170837402,\n",
       " 2.212291955947876,\n",
       " 2.204742193222046,\n",
       " 2.1924564838409424,\n",
       " 2.204237461090088,\n",
       " 2.2006995677948,\n",
       " 2.181544303894043,\n",
       " 2.216137647628784,\n",
       " 2.2160491943359375,\n",
       " 2.1923093795776367,\n",
       " 2.1617014408111572,\n",
       " 2.1545348167419434,\n",
       " 2.176194429397583,\n",
       " 2.188235282897949,\n",
       " 2.21960711479187,\n",
       " 2.172269821166992,\n",
       " 2.2135345935821533,\n",
       " 2.188373327255249,\n",
       " 2.155003547668457,\n",
       " 2.1790175437927246,\n",
       " 2.2422094345092773,\n",
       " 2.1829140186309814,\n",
       " 2.1831281185150146,\n",
       " 2.1829586029052734,\n",
       " 2.14768648147583,\n",
       " 2.1955814361572266,\n",
       " 2.160946846008301,\n",
       " 2.18595027923584,\n",
       " 2.1541264057159424,\n",
       " 2.1677613258361816,\n",
       " 2.1188793182373047,\n",
       " 2.1852519512176514,\n",
       " 2.1508169174194336,\n",
       " 2.1894993782043457,\n",
       " 2.1814074516296387,\n",
       " 2.193671464920044,\n",
       " 2.216884136199951,\n",
       " 2.1875298023223877,\n",
       " 2.142155408859253,\n",
       " 2.2064645290374756,\n",
       " 2.1341605186462402,\n",
       " 2.1860620975494385,\n",
       " 2.119124412536621,\n",
       " 2.180769681930542,\n",
       " 2.170069932937622,\n",
       " 2.156120777130127,\n",
       " 2.1120548248291016,\n",
       " 2.1642825603485107,\n",
       " 2.1658871173858643,\n",
       " 2.1122398376464844,\n",
       " 2.1793949604034424,\n",
       " 2.199378252029419,\n",
       " 2.1519181728363037,\n",
       " 2.2142679691314697,\n",
       " 2.1856276988983154,\n",
       " 2.150118350982666,\n",
       " 2.1690077781677246,\n",
       " 2.1859633922576904,\n",
       " 2.123924970626831,\n",
       " 2.1502602100372314,\n",
       " 2.167140483856201,\n",
       " 2.149868965148926,\n",
       " 2.119392156600952,\n",
       " 2.142045021057129,\n",
       " 2.140885353088379,\n",
       " 2.083796501159668,\n",
       " 2.1571462154388428,\n",
       " 2.169218063354492,\n",
       " 2.1603989601135254,\n",
       " 2.1334753036499023,\n",
       " 2.108372449874878,\n",
       " 2.121870994567871,\n",
       " 2.1507139205932617,\n",
       " 2.152594566345215,\n",
       " 2.1238090991973877,\n",
       " 2.0930404663085938,\n",
       " 2.1418426036834717,\n",
       " 2.0691425800323486,\n",
       " 2.089463710784912,\n",
       " 2.1120691299438477,\n",
       " 2.1173179149627686,\n",
       " 2.109833002090454,\n",
       " 2.1101150512695312,\n",
       " 2.1227760314941406,\n",
       " 2.071765184402466,\n",
       " 2.090212345123291,\n",
       " 2.0920450687408447,\n",
       " 2.099590539932251,\n",
       " 2.0688588619232178,\n",
       " 2.06188702583313,\n",
       " 2.047865867614746,\n",
       " 2.0699074268341064,\n",
       " 2.0368287563323975,\n",
       " 2.0757339000701904,\n",
       " 2.0579710006713867,\n",
       " 2.0048582553863525,\n",
       " 2.0825355052948,\n",
       " 2.0242693424224854,\n",
       " 2.0993900299072266,\n",
       " 2.0786168575286865,\n",
       " 2.1370627880096436,\n",
       " 2.095459222793579,\n",
       " 2.0450212955474854,\n",
       " 2.1075210571289062,\n",
       " 2.0518112182617188,\n",
       " 2.1054203510284424,\n",
       " 2.068801164627075,\n",
       " 2.004706621170044,\n",
       " 2.059921979904175,\n",
       " 2.0352303981781006,\n",
       " 2.094992160797119,\n",
       " 2.078387975692749,\n",
       " 1.970655918121338,\n",
       " 2.0070133209228516,\n",
       " 2.0340676307678223,\n",
       " 2.1062731742858887,\n",
       " 1.992414116859436,\n",
       " 2.0574724674224854,\n",
       " 2.053480625152588,\n",
       " 2.010115146636963,\n",
       " 2.0798990726470947,\n",
       " 1.9836628437042236,\n",
       " 2.0408735275268555,\n",
       " 2.041710615158081,\n",
       " 2.016569137573242,\n",
       " 1.9769302606582642,\n",
       " 2.0582692623138428,\n",
       " 1.9979262351989746,\n",
       " 2.081610918045044,\n",
       " 2.0261292457580566,\n",
       " 1.9559204578399658,\n",
       " 2.0418052673339844,\n",
       " 1.9853901863098145,\n",
       " 2.0687007904052734,\n",
       " 2.0061473846435547,\n",
       " 1.9461003541946411,\n",
       " 1.9981704950332642,\n",
       " 2.0073299407958984,\n",
       " 1.8824050426483154,\n",
       " 1.8622599840164185,\n",
       " 1.9516046047210693,\n",
       " 2.0965757369995117,\n",
       " 2.07464337348938,\n",
       " 2.041971445083618,\n",
       " 1.9285296201705933,\n",
       " 2.0278494358062744,\n",
       " 1.9365617036819458,\n",
       " 2.0282068252563477,\n",
       " 1.9326388835906982,\n",
       " 1.99753999710083,\n",
       " 2.0779340267181396,\n",
       " 2.0726513862609863,\n",
       " 1.9226194620132446,\n",
       " 1.9769779443740845,\n",
       " 1.945644736289978,\n",
       " 1.9127426147460938,\n",
       " 2.0276479721069336,\n",
       " 1.8931019306182861,\n",
       " 1.9158241748809814,\n",
       " 1.9483325481414795,\n",
       " 1.9318920373916626,\n",
       " 1.9903321266174316,\n",
       " 1.904432773590088,\n",
       " 2.010943651199341,\n",
       " 1.9622269868850708,\n",
       " 1.8286712169647217,\n",
       " 1.9270668029785156,\n",
       " 1.8691669702529907,\n",
       " 2.029942512512207,\n",
       " 1.9323639869689941,\n",
       " 1.9239096641540527,\n",
       " 1.9518054723739624,\n",
       " 1.9471228122711182,\n",
       " 2.0298101902008057,\n",
       " 2.024066209793091,\n",
       " 1.8806703090667725,\n",
       " 1.8861546516418457,\n",
       " 1.8887333869934082,\n",
       " 1.9611985683441162,\n",
       " 1.8967835903167725,\n",
       " 1.9698660373687744,\n",
       " 1.8909889459609985,\n",
       " 1.866646409034729,\n",
       " 1.9183939695358276,\n",
       " 1.9513616561889648,\n",
       " 1.942271113395691,\n",
       " 1.9009548425674438,\n",
       " 1.8477128744125366,\n",
       " 1.8962310552597046,\n",
       " 1.8709253072738647,\n",
       " 1.9218056201934814,\n",
       " 1.9862992763519287,\n",
       " 1.8123859167099,\n",
       " 1.9044619798660278,\n",
       " 1.910956859588623,\n",
       " 2.003629684448242,\n",
       " 1.8675259351730347,\n",
       " 1.8729729652404785,\n",
       " 1.9196504354476929,\n",
       " 1.8508706092834473,\n",
       " 1.8305788040161133,\n",
       " 1.8489285707473755,\n",
       " 1.8866527080535889,\n",
       " 1.8285043239593506,\n",
       " 1.8651520013809204,\n",
       " 1.8461140394210815,\n",
       " 1.8395264148712158,\n",
       " 1.7246323823928833,\n",
       " 1.7519339323043823,\n",
       " 1.8273234367370605,\n",
       " 1.765830636024475,\n",
       " 1.9066250324249268,\n",
       " 1.8406245708465576,\n",
       " 1.8142246007919312,\n",
       " 1.7389798164367676,\n",
       " 1.742417812347412,\n",
       " 1.8613128662109375,\n",
       " 1.8350781202316284,\n",
       " 1.8205844163894653,\n",
       " 1.830470085144043,\n",
       " 1.796413540840149,\n",
       " 1.7417001724243164,\n",
       " 1.7732186317443848,\n",
       " 1.7269128561019897,\n",
       " 1.8302865028381348,\n",
       " 1.7560940980911255,\n",
       " 1.8432164192199707,\n",
       " 1.9216346740722656,\n",
       " 1.7769806385040283,\n",
       " 1.8680453300476074,\n",
       " 1.8282012939453125,\n",
       " 1.8545397520065308,\n",
       " 1.8406541347503662,\n",
       " 1.7912217378616333,\n",
       " 1.764309048652649,\n",
       " 1.7650448083877563,\n",
       " 1.6984009742736816,\n",
       " 1.894004464149475,\n",
       " 1.7628493309020996,\n",
       " 1.696762204170227,\n",
       " 1.7679153680801392,\n",
       " 1.6811327934265137,\n",
       " 1.7158528566360474,\n",
       " 1.9107528924942017,\n",
       " 1.7198060750961304,\n",
       " 1.7491507530212402,\n",
       " 1.6479398012161255,\n",
       " 1.8240965604782104,\n",
       " 1.7211837768554688,\n",
       " 1.7601815462112427,\n",
       " 1.797734260559082,\n",
       " 1.6757252216339111,\n",
       " 1.6780617237091064,\n",
       " 1.71367609500885,\n",
       " 1.7997246980667114,\n",
       " 1.8123844861984253,\n",
       " 1.745690941810608,\n",
       " 1.6540969610214233,\n",
       " 1.6633105278015137,\n",
       " 1.6665139198303223,\n",
       " 1.5654925107955933,\n",
       " 1.6758793592453003,\n",
       " 1.6061904430389404,\n",
       " 1.6952286958694458,\n",
       " 1.5769567489624023,\n",
       " 1.7111485004425049,\n",
       " 1.6800243854522705,\n",
       " 1.8069278001785278,\n",
       " 1.558610200881958,\n",
       " 1.6050262451171875,\n",
       " 1.6231300830841064,\n",
       " 1.6793806552886963,\n",
       " 1.6798830032348633,\n",
       " 1.7148371934890747,\n",
       " 1.667494535446167,\n",
       " 1.6539883613586426,\n",
       " 1.5341531038284302,\n",
       " 1.6439824104309082,\n",
       " 1.6517953872680664,\n",
       " 1.6436346769332886,\n",
       " 1.7372069358825684,\n",
       " 1.7008256912231445,\n",
       " 1.7349499464035034,\n",
       " 1.8365293741226196,\n",
       " 1.6294949054718018,\n",
       " 1.5428677797317505,\n",
       " 1.6781824827194214,\n",
       " 1.5026687383651733,\n",
       " 1.4312976598739624,\n",
       " 1.4171749353408813,\n",
       " 1.5744878053665161,\n",
       " 1.6078304052352905,\n",
       " 1.6914464235305786,\n",
       " 1.6171177625656128,\n",
       " 1.7908084392547607,\n",
       " 1.7642675638198853,\n",
       " 1.6689943075180054,\n",
       " 1.7051740884780884,\n",
       " 1.713810682296753,\n",
       " 1.698509693145752,\n",
       " 1.6690014600753784,\n",
       " 1.779729962348938,\n",
       " 1.70754075050354,\n",
       " 1.684755563735962,\n",
       " 1.5333778858184814,\n",
       " 1.5403813123703003,\n",
       " 1.629258394241333,\n",
       " 1.4588813781738281,\n",
       " 1.5776259899139404,\n",
       " 1.6650915145874023,\n",
       " 1.8068482875823975,\n",
       " 1.604103684425354,\n",
       " 1.6711645126342773,\n",
       " 1.6703033447265625,\n",
       " 1.599958896636963,\n",
       " 1.7170803546905518,\n",
       " 1.5467830896377563,\n",
       " 1.6635364294052124,\n",
       " 1.528342604637146,\n",
       " 1.6033269166946411,\n",
       " 1.6276435852050781,\n",
       " 1.5974174737930298,\n",
       " 1.5436559915542603,\n",
       " 1.4123356342315674,\n",
       " 1.6395398378372192,\n",
       " 1.598068118095398,\n",
       " 1.8442816734313965,\n",
       " 1.4859848022460938,\n",
       " 1.635587215423584,\n",
       " 1.6098241806030273,\n",
       " 1.5702282190322876,\n",
       " 1.5889772176742554,\n",
       " 1.6729556322097778,\n",
       " 1.6815049648284912,\n",
       " 1.7194386720657349,\n",
       " 1.5672491788864136,\n",
       " 1.5383261442184448,\n",
       " 1.4846786260604858,\n",
       " 1.533250331878662,\n",
       " 1.5644586086273193,\n",
       " 1.530957818031311,\n",
       " 1.4686623811721802,\n",
       " 1.6438604593276978,\n",
       " 1.5573996305465698,\n",
       " 1.6337409019470215,\n",
       " 1.731462836265564,\n",
       " 1.6048994064331055,\n",
       " 1.5097538232803345,\n",
       " 1.5487271547317505,\n",
       " 1.4964326620101929,\n",
       " 1.6251845359802246,\n",
       " 1.488206148147583,\n",
       " 1.5377569198608398,\n",
       " 1.520835518836975,\n",
       " 1.5137616395950317,\n",
       " 1.526711106300354,\n",
       " 1.4157294034957886,\n",
       " 1.309035301208496,\n",
       " 1.4942452907562256,\n",
       " 1.4103994369506836,\n",
       " 1.518587589263916,\n",
       " 1.545667290687561,\n",
       " 1.370384931564331,\n",
       " 1.4565227031707764,\n",
       " 1.5260038375854492,\n",
       " 1.4393000602722168,\n",
       " 1.4759647846221924,\n",
       " 1.4497872591018677,\n",
       " 1.467536449432373,\n",
       " 1.4216055870056152,\n",
       " 1.4569637775421143,\n",
       " 1.520289421081543,\n",
       " 1.425065279006958,\n",
       " 1.3818539381027222,\n",
       " 1.411177396774292,\n",
       " 1.4326432943344116,\n",
       " 1.2877566814422607,\n",
       " 1.3055452108383179,\n",
       " 1.1578847169876099,\n",
       " 1.4836227893829346,\n",
       " 1.4613852500915527,\n",
       " 1.4060004949569702,\n",
       " 1.575675368309021,\n",
       " 1.3033883571624756,\n",
       " 1.384279489517212,\n",
       " 1.2785999774932861,\n",
       " 1.4616436958312988,\n",
       " 1.3539633750915527,\n",
       " 1.4588543176651,\n",
       " 1.4319795370101929,\n",
       " 1.3446425199508667,\n",
       " 1.4030438661575317,\n",
       " 1.3289796113967896,\n",
       " 1.465156078338623,\n",
       " 1.4630324840545654,\n",
       " 1.3173942565917969,\n",
       " 1.6264922618865967,\n",
       " 1.4541419744491577,\n",
       " 1.4998663663864136,\n",
       " 1.3754103183746338,\n",
       " 1.4124423265457153,\n",
       " 1.4134228229522705,\n",
       " 1.5411334037780762,\n",
       " 1.4454855918884277,\n",
       " 1.5019854307174683,\n",
       " 1.3713253736495972,\n",
       " 1.3030413389205933,\n",
       " 1.431604027748108,\n",
       " 1.2651705741882324,\n",
       " 1.4090064764022827,\n",
       " 1.314051866531372,\n",
       " 1.3354690074920654,\n",
       " 1.5533751249313354,\n",
       " 1.2717609405517578,\n",
       " 1.229223608970642,\n",
       " 1.3375344276428223,\n",
       " 1.2291686534881592,\n",
       " 1.297935128211975,\n",
       " 1.4351636171340942,\n",
       " 1.4116277694702148,\n",
       " 1.459950566291809,\n",
       " 1.495793342590332,\n",
       " 1.3159704208374023,\n",
       " 1.260182499885559,\n",
       " 1.3201320171356201,\n",
       " 1.1157795190811157,\n",
       " 1.3395144939422607,\n",
       " 1.2333953380584717,\n",
       " 1.384341835975647,\n",
       " 1.4620606899261475,\n",
       " 1.2231440544128418,\n",
       " 1.154693841934204,\n",
       " 1.2327041625976562,\n",
       " 1.312219262123108,\n",
       " 1.1580674648284912,\n",
       " 1.302748203277588,\n",
       " 1.301021695137024,\n",
       " 1.376491904258728,\n",
       " 1.2498290538787842,\n",
       " 1.3191046714782715,\n",
       " 1.2211849689483643,\n",
       " 1.3729766607284546,\n",
       " 1.3710052967071533,\n",
       " 1.216941237449646,\n",
       " 1.2020527124404907,\n",
       " 1.2692499160766602,\n",
       " 1.3419111967086792,\n",
       " 1.3888522386550903,\n",
       " 1.4570949077606201,\n",
       " 1.326964259147644,\n",
       " 1.3428741693496704,\n",
       " 1.3808274269104004,\n",
       " 1.354953646659851,\n",
       " 1.2186243534088135,\n",
       " 1.1417676210403442,\n",
       " 1.380224585533142,\n",
       " 1.324212670326233,\n",
       " 1.3535255193710327,\n",
       " 1.2307162284851074,\n",
       " 1.2414621114730835,\n",
       " 1.2544095516204834,\n",
       " 1.4499716758728027,\n",
       " 1.1312977075576782,\n",
       " 1.1385687589645386,\n",
       " 1.2045191526412964,\n",
       " 1.4010777473449707,\n",
       " 1.3619908094406128,\n",
       " 1.3498400449752808,\n",
       " 1.188371181488037,\n",
       " 1.0624864101409912,\n",
       " 1.2670725584030151,\n",
       " 1.276057481765747,\n",
       " 1.445806860923767,\n",
       " 1.1756038665771484,\n",
       " 1.0970951318740845,\n",
       " 1.2558821439743042,\n",
       " 1.1658713817596436,\n",
       " 1.1040253639221191,\n",
       " 1.1200155019760132,\n",
       " 1.2004609107971191,\n",
       " 1.1920585632324219,\n",
       " 0.9984039068222046,\n",
       " 1.2120424509048462,\n",
       " 1.079239010810852,\n",
       " 1.0583590269088745,\n",
       " 1.270078182220459,\n",
       " 1.4168870449066162,\n",
       " 1.2149125337600708,\n",
       " 1.4451919794082642,\n",
       " 1.2111485004425049,\n",
       " 1.2779310941696167,\n",
       " 1.1342689990997314,\n",
       " 1.1710832118988037,\n",
       " 1.2139323949813843,\n",
       " 1.256617546081543,\n",
       " 1.314202070236206,\n",
       " 1.185198187828064,\n",
       " 1.1710751056671143,\n",
       " 1.3610535860061646,\n",
       " 1.222024917602539,\n",
       " 1.0747618675231934,\n",
       " 1.159712791442871,\n",
       " 1.1296156644821167,\n",
       " 1.103166937828064,\n",
       " 1.1072241067886353,\n",
       " 1.2044435739517212,\n",
       " 1.045262098312378,\n",
       " 1.1807423830032349,\n",
       " 1.0834139585494995,\n",
       " 1.2413499355316162,\n",
       " 1.1733157634735107,\n",
       " 1.252042531967163,\n",
       " 1.0695313215255737,\n",
       " 1.2743602991104126,\n",
       " 1.2285734415054321,\n",
       " 1.1961627006530762,\n",
       " 0.9912208318710327,\n",
       " 1.0220293998718262,\n",
       " 1.050634503364563,\n",
       " 1.096005916595459,\n",
       " 1.3036046028137207,\n",
       " 1.154289722442627,\n",
       " 1.1772265434265137,\n",
       " 1.1268514394760132,\n",
       " 1.1326771974563599,\n",
       " 1.2695010900497437,\n",
       " 1.401435375213623,\n",
       " 1.270226240158081,\n",
       " 1.1859256029129028,\n",
       " 1.3888736963272095,\n",
       " 1.3925937414169312,\n",
       " 1.185457468032837,\n",
       " 1.0381397008895874,\n",
       " 1.1276295185089111,\n",
       " 1.2410262823104858,\n",
       " 1.3374266624450684,\n",
       " 1.0783721208572388,\n",
       " 1.0444318056106567,\n",
       " 1.1737054586410522,\n",
       " 1.1350657939910889,\n",
       " 0.9940226674079895,\n",
       " 1.0329691171646118,\n",
       " 1.2625470161437988,\n",
       " 1.0895768404006958,\n",
       " 1.215306043624878,\n",
       " 1.1310042142868042,\n",
       " 1.3076287508010864,\n",
       " 1.192080020904541,\n",
       " 1.1912895441055298,\n",
       " 1.173102855682373,\n",
       " 1.2871544361114502,\n",
       " 0.9963256120681763,\n",
       " 0.9943506121635437,\n",
       " 1.2540373802185059,\n",
       " 1.0561937093734741,\n",
       " 0.9879391193389893,\n",
       " 0.998258113861084,\n",
       " 1.1842485666275024,\n",
       " 1.1055514812469482,\n",
       " 1.273964285850525,\n",
       " 1.2432713508605957,\n",
       " 1.3506958484649658,\n",
       " 1.195877194404602,\n",
       " 0.9748048186302185,\n",
       " 1.132081389427185,\n",
       " 0.9891360402107239,\n",
       " 0.9577335119247437,\n",
       " 0.9764173626899719,\n",
       " 0.9837782979011536,\n",
       " 0.9090140461921692,\n",
       " 1.1299477815628052,\n",
       " 1.0040843486785889,\n",
       " 0.982292115688324,\n",
       " 1.1010361909866333,\n",
       " 1.0354557037353516,\n",
       " 1.0614314079284668,\n",
       " 1.1369013786315918,\n",
       " 1.1307997703552246,\n",
       " 1.106177806854248,\n",
       " 1.2059588432312012,\n",
       " 1.0729420185089111,\n",
       " 1.1009713411331177,\n",
       " 1.2080726623535156,\n",
       " 1.1558870077133179,\n",
       " 1.0911155939102173,\n",
       " 1.2349735498428345,\n",
       " 1.1283211708068848,\n",
       " 1.2136286497116089,\n",
       " 1.0917856693267822,\n",
       " 0.9560753107070923,\n",
       " 0.9228452444076538,\n",
       " 0.9098393321037292,\n",
       " 0.9422710537910461,\n",
       " 0.9565341472625732,\n",
       " 1.0265752077102661,\n",
       " 1.019534945487976,\n",
       " 1.1242010593414307,\n",
       " 1.1470798254013062,\n",
       " 1.140842080116272,\n",
       " 0.9954688549041748,\n",
       " 1.144066333770752,\n",
       " 1.0624327659606934,\n",
       " 1.145953893661499,\n",
       " 1.032664179801941,\n",
       " 0.9921951293945312,\n",
       " 0.9479184150695801,\n",
       " 0.9496591091156006,\n",
       " 0.9600419402122498,\n",
       " 1.1070661544799805,\n",
       " 1.2139182090759277,\n",
       " 0.9811575412750244,\n",
       " 0.921995222568512,\n",
       " 1.0281181335449219,\n",
       " 0.8802082538604736,\n",
       " 1.0038501024246216,\n",
       " 1.0323786735534668,\n",
       " 1.1037904024124146,\n",
       " 1.1186810731887817,\n",
       " 1.0733438730239868,\n",
       " 1.0608036518096924,\n",
       " 1.1032896041870117,\n",
       " 1.109580636024475,\n",
       " 1.0336737632751465,\n",
       " 0.9387097954750061,\n",
       " 1.0197508335113525,\n",
       " 1.0851393938064575,\n",
       " 1.073962688446045,\n",
       " 1.1907055377960205,\n",
       " 1.019299030303955,\n",
       " 0.9283573627471924,\n",
       " 0.9399277567863464,\n",
       " 0.8977792263031006,\n",
       " 1.0348272323608398,\n",
       " 0.9268347024917603,\n",
       " 1.0902527570724487,\n",
       " 0.8888681530952454,\n",
       " 0.9256479740142822,\n",
       " 0.9706899523735046,\n",
       " 0.8221964836120605,\n",
       " 0.9312245845794678,\n",
       " 0.9566329717636108,\n",
       " 0.9631710648536682,\n",
       " 0.945330023765564,\n",
       " 0.8797767758369446,\n",
       " 1.0070827007293701,\n",
       " 1.1132868528366089,\n",
       " 1.148032784461975,\n",
       " 0.9383811950683594,\n",
       " 0.9560821652412415,\n",
       " 1.0467360019683838,\n",
       " 0.9981951713562012,\n",
       " 0.9387266635894775,\n",
       " 1.1332778930664062,\n",
       " 0.9657440185546875,\n",
       " 0.9248377084732056,\n",
       " 0.8949198126792908,\n",
       " 0.76866614818573,\n",
       " 0.9468616247177124,\n",
       " 1.1115607023239136,\n",
       " 0.9604535102844238,\n",
       " 0.8837634325027466,\n",
       " 0.9411239624023438,\n",
       " 0.7653340101242065,\n",
       " 0.81084805727005,\n",
       " 0.8716493248939514,\n",
       " 0.8046953678131104,\n",
       " 0.8663725852966309,\n",
       " 1.116539478302002,\n",
       " 0.7941640615463257,\n",
       " 0.8631022572517395,\n",
       " 0.949753999710083,\n",
       " 0.9916931986808777,\n",
       " 0.8507069945335388,\n",
       " 0.8684400916099548,\n",
       " 0.8171966671943665,\n",
       " 0.8949582576751709,\n",
       " 0.8844517469406128,\n",
       " 0.8739429712295532,\n",
       " 1.0804195404052734,\n",
       " 1.167468786239624,\n",
       " 1.279504418373108,\n",
       " 1.031205654144287,\n",
       " 1.0674819946289062,\n",
       " 0.9484384059906006,\n",
       " 1.0896823406219482,\n",
       " 0.7828194499015808,\n",
       " 0.7499315142631531,\n",
       " 0.7659844160079956,\n",
       " 0.8918898701667786,\n",
       " 1.178542971611023,\n",
       " 1.3095625638961792,\n",
       " 1.2038538455963135,\n",
       " 0.9465111494064331,\n",
       " 1.2056370973587036,\n",
       " 0.8989467620849609,\n",
       " 0.9194585680961609,\n",
       " 0.9809741973876953,\n",
       " 1.055235505104065,\n",
       " 0.9299163818359375,\n",
       " 1.0086541175842285,\n",
       " ...]"
      ]
     },
     "execution_count": 370,
     "metadata": {},
     "output_type": "execute_result"
    }
   ],
   "source": [
    "class MLPClassifer(DNN):\n",
    "    def __init__(self, in_features=28*28, classes=10, hidden=50):\n",
    "        \"\"\"\n",
    "        Initialize weight and bias variables\n",
    "        \"\"\"\n",
    "        super(MLPClassifer, self).__init__()\n",
    "        \"\"\" ==========\n",
    "        YOUR CODE HERE\n",
    "        ========== \"\"\"\n",
    "        self.input_to_hidden_weight = weight_variable((hidden, in_features))\n",
    "        self.input_to_hidden_bias = bias_variable((hidden))\n",
    "\n",
    "        self.hidden_to_output_weight = weight_variable((classes, hidden))\n",
    "        self.hidden_to_output_bias = bias_variable((classes))\n",
    "        \n",
    "    def forward(self, x):\n",
    "        \"\"\" ==========\n",
    "        YOUR CODE HERE\n",
    "        ========== \"\"\"\n",
    "        #Χρησιμοποιησα κομματι απο τον ετοιμο κωδικα forward του LinearClassifier\n",
    "        #x.view(list(x.size())[0], -1) η συηκεκριμενη γραμμη αν δεν κανω λαθος κανει απλα flatten τα στοιχεια εισοδου\n",
    "        hidden_layer = torch.addmm(self.input_to_hidden_bias, x.view(list(x.size())[0], -1), self.input_to_hidden_weight.t())\n",
    "        #Γινεται εφαρμογη της relu στο κρυμμενο επιπεδο\n",
    "        hiddeν_layer = torch.relu(hidden_layer)\n",
    "\n",
    "        #Γινεται η επιστροφη των logits απο το τελευταιο επιπεδο\n",
    "        output_layer = torch.addmm(self.hidden_to_output_bias, hidden_layer, self.hidden_to_output_weight.t())\n",
    "        return output_layer\n",
    "    \n",
    "\n",
    "mlpClassifer = MLPClassifer()\n",
    "mlpClassifer.train_net(X_train, y_train, epochs=10, batchSize=50)"
   ]
  },
  {
   "cell_type": "code",
   "execution_count": 371,
   "metadata": {
    "id": "R-4xraHl0muj"
   },
   "outputs": [
    {
     "name": "stderr",
     "output_type": "stream",
     "text": [
      "100%|██████████████████████████████████████████████████████████████████████████████| 200/200 [00:00<00:00, 4785.37it/s]"
     ]
    },
    {
     "name": "stdout",
     "output_type": "stream",
     "text": [
      "Confusion matrix - MLP classifier accuracy: 91.900000\n",
      "MLP classifier accuracy: 91.900000\n"
     ]
    },
    {
     "name": "stderr",
     "output_type": "stream",
     "text": [
      "\n"
     ]
    },
    {
     "data": {
      "image/png": "[encoded data removed]",
      "text/plain": [
       "<Figure size 1400x600 with 1 Axes>"
      ]
     },
     "metadata": {},
     "output_type": "display_data"
    },
    {
     "data": {
      "text/plain": [
       "array([[9.600e+02, 0.000e+00, 4.000e+00, 1.000e+00, 0.000e+00, 5.000e+00,\n",
       "        6.000e+00, 2.000e+00, 2.000e+00, 0.000e+00],\n",
       "       [0.000e+00, 1.106e+03, 2.000e+00, 2.000e+00, 0.000e+00, 2.000e+00,\n",
       "        4.000e+00, 2.000e+00, 1.700e+01, 0.000e+00],\n",
       "       [1.100e+01, 8.000e+00, 9.030e+02, 1.800e+01, 1.200e+01, 2.000e+00,\n",
       "        1.300e+01, 1.200e+01, 4.400e+01, 9.000e+00],\n",
       "       [3.000e+00, 1.000e+00, 1.800e+01, 9.150e+02, 0.000e+00, 3.100e+01,\n",
       "        1.000e+00, 1.500e+01, 1.800e+01, 8.000e+00],\n",
       "       [2.000e+00, 2.000e+00, 3.000e+00, 2.000e+00, 9.070e+02, 0.000e+00,\n",
       "        1.200e+01, 2.000e+00, 7.000e+00, 4.500e+01],\n",
       "       [1.100e+01, 2.000e+00, 5.000e+00, 3.100e+01, 7.000e+00, 7.790e+02,\n",
       "        1.500e+01, 7.000e+00, 2.800e+01, 7.000e+00],\n",
       "       [1.400e+01, 3.000e+00, 4.000e+00, 1.000e+00, 1.000e+01, 1.300e+01,\n",
       "        9.080e+02, 2.000e+00, 3.000e+00, 0.000e+00],\n",
       "       [3.000e+00, 7.000e+00, 2.400e+01, 7.000e+00, 7.000e+00, 1.000e+00,\n",
       "        0.000e+00, 9.380e+02, 2.000e+00, 3.900e+01],\n",
       "       [1.000e+01, 6.000e+00, 5.000e+00, 2.200e+01, 1.000e+01, 3.100e+01,\n",
       "        1.100e+01, 9.000e+00, 8.620e+02, 8.000e+00],\n",
       "       [1.100e+01, 7.000e+00, 1.000e+00, 1.000e+01, 3.100e+01, 8.000e+00,\n",
       "        0.000e+00, 2.200e+01, 7.000e+00, 9.120e+02]])"
      ]
     },
     "metadata": {},
     "output_type": "display_data"
    },
    {
     "data": {
      "text/plain": [
       "'Στην εκφωνηση αναφερετε οτι πρεπει να εχουμε 95-97% accuracy ωστοσο δεν μπορω να βγαλω παραπανω απο 92.07%. Εχει σημασια που χρησιμοποιησα το gradient \\ndecent για τον optimizer και οχι καποιον αλλο αλγοριθμο?'"
      ]
     },
     "execution_count": 371,
     "metadata": {},
     "output_type": "execute_result"
    }
   ],
   "source": [
    "# Plot confusion matrix\n",
    "M_mlp,acc_mlp = Confusion(X_test, y_test, mlpClassifer)\n",
    "\n",
    "print ('Confusion matrix - MLP classifier accuracy: %f'%acc_mlp)\n",
    "\n",
    "# Check also standard accucary of test() for consistency\n",
    "print ('MLP classifier accuracy: %f'%test(X_test, y_test, mlpClassifer))\n",
    "\n",
    "VisualizeConfussion(M_mlp)\n",
    "\n",
    "\"\"\"Στην εκφωνηση αναφερετε οτι πρεπει να εχουμε 95-97% accuracy ωστοσο δεν μπορω να βγαλω παραπανω απο 92.07%. Εχει σημασια που χρησιμοποιησα το gradient \n",
    "decent για τον optimizer και οχι καποιον αλλο αλγοριθμο?\"\"\""
   ]
  },
  {
   "cell_type": "code",
   "execution_count": 372,
   "metadata": {
    "id": "FLD0yjHH0bVU"
   },
   "outputs": [
    {
     "data": {
      "text/plain": [
       "' ==========\\nYOUR CODE HERE\\n========== '"
      ]
     },
     "execution_count": 372,
     "metadata": {},
     "output_type": "execute_result"
    }
   ],
   "source": [
    "# Plot filter weights\n",
    "\"\"\" ==========\n",
    "YOUR CODE HERE\n",
    "========== \"\"\""
   ]
  },
  {
   "cell_type": "markdown",
   "metadata": {
    "id": "tBC6s9qQ1KKj"
   },
   "source": [
    "### Ζήτημα 2.5: Συνελικτικό Νευρωνικό Δίκτυο - Convolutional Neural Network (CNN) [`bonus`  5 μονάδες]\n",
    "Εδώ θα υλοποιήσετε ένα CNN με την ακόλουθη αρχιτεκτονική:\n",
    "\n",
    "* n=10 (output features or filters)\n",
    "* ReLU( Conv(kernel_size=5x5, stride=2, output_features=n) )\n",
    "* ReLU( Conv(kernel_size=5x5, stride=2, output_features=n*2) )\n",
    "* ReLU( Linear(hidden units = 64) )\n",
    "* Linear(output_features=classes)\n",
    "\n",
    "Δηλαδή, 2 συνελικτικά επίπεδα (Conv Layers) όπου απεικονίζουν μη-γραμμικά (ReLU) την είσοδο του προηγούμενου επιπέδου, ακολουθούμενα από 1 πλήρως συνδεδεμένο κρυμμένο επίπεδο (FC hidden layer) με μη γραμμική ενεργοποίηση (ReLU) και μετά το επίπεδο εξόδου (output layer) όπου συνδυάζει γραμμικά τις τιμές του προηγούμενου επιπέδου.\n",
    "\n",
    "Εμφανίστε τον πίνακα σύγχυσης και την ακρίβεια μετά την εκπαίδευση. Θα πρέπει να έχετε περίπου ~98% ακρίβεια για 10 εποχές και μέγεθος παρτίδας 50.<br><br>\n",
    "\n",
    "**Σημείωση: Δεν επιτρέπεται να χρησιμοποιείτε τις torch.nn.Conv2d() και torch.nn.Linear(). Η χρήση αυτών θα οδηγήσει σε αφαίρεση μονάδων. Χρησιμοποιήστε τις δηλωμένες συναρτήσεις conv2d(), weight_variable() και bias_variable().** Ωστόσο στην πράξη, όταν προχωρήσετε μετά από αυτό το μάθημα, θα χρησιμοποιήσετε torch.nn.Conv2d() που κάνει τη ζωή πιο εύκολη και αποκρύπτει όλες τις υποφαινόμενες λειτουργίες.\n",
    "\n",
    "**Μην** ξεχάσετε να σχολιάσετε τον κώδικά σας όπου χρειάζεται (π.χ. στον τρόπο υπολογισμού των διαστάσεων της εξόδου σε κάθε επίπεδο)."
   ]
  },
  {
   "cell_type": "code",
   "execution_count": 373,
   "metadata": {
    "id": "-OhmF0NM1Clj"
   },
   "outputs": [
    {
     "ename": "ValueError",
     "evalue": "optimizer got an empty parameter list",
     "output_type": "error",
     "traceback": [
      "\u001b[1;31m---------------------------------------------------------------------------\u001b[0m",
      "\u001b[1;31mValueError\u001b[0m                                Traceback (most recent call last)",
      "Cell \u001b[1;32mIn[373], line 22\u001b[0m\n\u001b[0;32m     19\u001b[0m         \u001b[38;5;28;01mreturn\u001b[39;00m y \n\u001b[0;32m     21\u001b[0m cnnClassifer \u001b[38;5;241m=\u001b[39m CNNClassifer()\n\u001b[1;32m---> 22\u001b[0m \u001b[43mcnnClassifer\u001b[49m\u001b[38;5;241;43m.\u001b[39;49m\u001b[43mtrain_net\u001b[49m\u001b[43m(\u001b[49m\u001b[43mX_train\u001b[49m\u001b[43m,\u001b[49m\u001b[43m \u001b[49m\u001b[43my_train\u001b[49m\u001b[43m,\u001b[49m\u001b[43m \u001b[49m\u001b[43mepochs\u001b[49m\u001b[38;5;241;43m=\u001b[39;49m\u001b[38;5;241;43m10\u001b[39;49m\u001b[43m,\u001b[49m\u001b[43m \u001b[49m\u001b[43mbatchSize\u001b[49m\u001b[38;5;241;43m=\u001b[39;49m\u001b[38;5;241;43m50\u001b[39;49m\u001b[43m)\u001b[49m\n",
      "Cell \u001b[1;32mIn[365], line 27\u001b[0m, in \u001b[0;36mDNN.train_net\u001b[1;34m(self, X_train, y_train, epochs, batchSize)\u001b[0m\n\u001b[0;32m     25\u001b[0m losses \u001b[38;5;241m=\u001b[39m []\n\u001b[0;32m     26\u001b[0m criterion \u001b[38;5;241m=\u001b[39m nn\u001b[38;5;241m.\u001b[39mCrossEntropyLoss()\n\u001b[1;32m---> 27\u001b[0m optimizer \u001b[38;5;241m=\u001b[39m \u001b[43moptim\u001b[49m\u001b[38;5;241;43m.\u001b[39;49m\u001b[43mSGD\u001b[49m\u001b[43m(\u001b[49m\u001b[38;5;28;43mself\u001b[39;49m\u001b[38;5;241;43m.\u001b[39;49m\u001b[43mparameters\u001b[49m\u001b[43m(\u001b[49m\u001b[43m)\u001b[49m\u001b[43m,\u001b[49m\u001b[43m \u001b[49m\u001b[43mlr\u001b[49m\u001b[43m \u001b[49m\u001b[38;5;241;43m=\u001b[39;49m\u001b[43m \u001b[49m\u001b[38;5;241;43m0.01\u001b[39;49m\u001b[43m)\u001b[49m\n\u001b[0;32m     29\u001b[0m \u001b[38;5;66;03m#μετατροπη των x_train, y_train σε pytorch tensors ωστε να γινει η χρηση της Variable\u001b[39;00m\n\u001b[0;32m     30\u001b[0m X_train_tensor \u001b[38;5;241m=\u001b[39m torch\u001b[38;5;241m.\u001b[39mFloatTensor(X_train)\n",
      "File \u001b[1;32m~\\anaconda3\\envs\\askisi\\Lib\\site-packages\\torch\\optim\\sgd.py:61\u001b[0m, in \u001b[0;36mSGD.__init__\u001b[1;34m(self, params, lr, momentum, dampening, weight_decay, nesterov, maximize, foreach, differentiable, fused)\u001b[0m\n\u001b[0;32m     59\u001b[0m \u001b[38;5;28;01mif\u001b[39;00m nesterov \u001b[38;5;129;01mand\u001b[39;00m (momentum \u001b[38;5;241m<\u001b[39m\u001b[38;5;241m=\u001b[39m \u001b[38;5;241m0\u001b[39m \u001b[38;5;129;01mor\u001b[39;00m dampening \u001b[38;5;241m!=\u001b[39m \u001b[38;5;241m0\u001b[39m):\n\u001b[0;32m     60\u001b[0m     \u001b[38;5;28;01mraise\u001b[39;00m \u001b[38;5;167;01mValueError\u001b[39;00m(\u001b[38;5;124m\"\u001b[39m\u001b[38;5;124mNesterov momentum requires a momentum and zero dampening\u001b[39m\u001b[38;5;124m\"\u001b[39m)\n\u001b[1;32m---> 61\u001b[0m \u001b[38;5;28;43msuper\u001b[39;49m\u001b[43m(\u001b[49m\u001b[43m)\u001b[49m\u001b[38;5;241;43m.\u001b[39;49m\u001b[38;5;21;43m__init__\u001b[39;49m\u001b[43m(\u001b[49m\u001b[43mparams\u001b[49m\u001b[43m,\u001b[49m\u001b[43m \u001b[49m\u001b[43mdefaults\u001b[49m\u001b[43m)\u001b[49m\n\u001b[0;32m     63\u001b[0m \u001b[38;5;28;01mif\u001b[39;00m fused:\n\u001b[0;32m     64\u001b[0m     \u001b[38;5;28mself\u001b[39m\u001b[38;5;241m.\u001b[39m_step_supports_amp_scaling \u001b[38;5;241m=\u001b[39m \u001b[38;5;28;01mTrue\u001b[39;00m\n",
      "File \u001b[1;32m~\\anaconda3\\envs\\askisi\\Lib\\site-packages\\torch\\optim\\optimizer.py:366\u001b[0m, in \u001b[0;36mOptimizer.__init__\u001b[1;34m(self, params, defaults)\u001b[0m\n\u001b[0;32m    364\u001b[0m param_groups \u001b[38;5;241m=\u001b[39m \u001b[38;5;28mlist\u001b[39m(params)\n\u001b[0;32m    365\u001b[0m \u001b[38;5;28;01mif\u001b[39;00m \u001b[38;5;28mlen\u001b[39m(param_groups) \u001b[38;5;241m==\u001b[39m \u001b[38;5;241m0\u001b[39m:\n\u001b[1;32m--> 366\u001b[0m     \u001b[38;5;28;01mraise\u001b[39;00m \u001b[38;5;167;01mValueError\u001b[39;00m(\u001b[38;5;124m\"\u001b[39m\u001b[38;5;124moptimizer got an empty parameter list\u001b[39m\u001b[38;5;124m\"\u001b[39m)\n\u001b[0;32m    367\u001b[0m \u001b[38;5;28;01mif\u001b[39;00m \u001b[38;5;129;01mnot\u001b[39;00m \u001b[38;5;28misinstance\u001b[39m(param_groups[\u001b[38;5;241m0\u001b[39m], \u001b[38;5;28mdict\u001b[39m):\n\u001b[0;32m    368\u001b[0m     param_groups \u001b[38;5;241m=\u001b[39m [{\u001b[38;5;124m\"\u001b[39m\u001b[38;5;124mparams\u001b[39m\u001b[38;5;124m\"\u001b[39m: param_groups}]\n",
      "\u001b[1;31mValueError\u001b[0m: optimizer got an empty parameter list"
     ]
    }
   ],
   "source": [
    "def conv2d(x, W, stride, bias=None):\n",
    "    # x: input\n",
    "    # W: weights (out, in, kH, kW)\n",
    "    return F.conv2d(x, W, bias, stride=stride, padding=2)\n",
    "\n",
    "# Defining a Convolutional Neural Network\n",
    "class CNNClassifer(DNN):\n",
    "    def __init__(self, classes=10, n=10):\n",
    "        super(CNNClassifer, self).__init__()\n",
    "        \"\"\" ==========\n",
    "        YOUR CODE HERE\n",
    "        ========== \"\"\"\n",
    "       \n",
    "    def forward(self, x):\n",
    "        \"\"\" ==========\n",
    "        YOUR CODE HERE\n",
    "        ========== \"\"\"\n",
    "       \n",
    "        return y \n",
    "    \n",
    "cnnClassifer = CNNClassifer()\n",
    "cnnClassifer.train_net(X_train, y_train, epochs=10, batchSize=50)"
   ]
  },
  {
   "cell_type": "code",
   "execution_count": null,
   "metadata": {
    "id": "SWkNhBgf1Sf3"
   },
   "outputs": [],
   "source": [
    "# Plot confusion matrix and print the test accuracy of the classifier\n",
    "\"\"\" ==========\n",
    "YOUR CODE HERE\n",
    " ========== \"\"\"\n",
    "\n",
    "print ('Confusion matrix - MLP classifier accuracy: %f'%acc_cnn)\n",
    "\n",
    "# Check also standard accucary of test() for consistency\n",
    "print ('MLP classifier accuracy: %f'%test(X_test, y_test, cnnClassifer))\n",
    "\n",
    "VisualizeConfussion(M_cnn)"
   ]
  },
  {
   "cell_type": "markdown",
   "metadata": {
    "id": "nHx9gSiK1xVp"
   },
   "source": [
    "* Σημειώστε ότι οι προσεγγίσεις MLP/ConvNet οδηγούν σε λίγο μεγαλύτερη ακρίβεια ταξινόμησης από την προσέγγιση K-NN. \n",
    "* Στη γενική περίπτωση, οι προσεγγίσεις Νευρωνικών Δικτύων οδηγούν σε σημαντική αύξηση της ακρίβειας, αλλά, σε αυτή την περίπτωση, εφόσον το πρόβλημα δεν είναι ιδιαίτερα δύσκολο, η αύξηση της ακρίβειας δεν είναι και τόσο υψηλή.\n",
    "* Ωστόσο, αυτό εξακολουθεί να είναι αρκετά σημαντικό, δεδομένου του γεγονότος ότι τα ConvNets που χρησιμοποιήσαμε είναι σχετικά απλά, ενώ η ακρίβεια που επιτυγχάνεται χρησιμοποιώντας το K-NN είναι αποτέλεσμα αναζήτησης σε πάνω από 60.000 εικόνες εκπαίδευσης για κάθε εικόνα ελέγχου.\n",
    "* Συνιστάται ιδιαίτερα να αναζητήσετε περισσότερα για τα νευρωνικά δίκτυα/PyTorch στη διεύθυνση<br> https://pytorch.org/tutorials/beginner/deep_learning_60min_blitz.html καθώς και στο σχετικό tutorial στην αναρτημένη εργασία στη σελίδα ecourse του μαθήματος **tutorial1_pytorch_introduction.ipynb**.\n",
    "\n",
    "\n",
    "\n",
    "## Οδηγίες υποβολής\n",
    "\n",
    "Μην ξεχάσετε να κάνετε turnin το αρχείο Jupyter notebook **και** το PDF αρχείο αυτού του notebook μαζί με το συνοδευτικό αρχείο `onoma.txt`:\n",
    "**turnin  assignment@mye046 onoma.txt assignment.ipynb assignment.pdf**\n",
    "\n",
    "Βεβαιωθείτε ότι το περιεχόμενο σε **κάθε κελί εμφανίζεται** καθαρά στο τελικό σας αρχείο PDF.\n",
    "Για να μετατρέψετε το σημειωματάριο σε PDF, μπορείτε να επιλέξετε **έναν** από τους παρακάτω τρόπους:\n",
    "\n",
    "1. Google Colab (Συνιστάται): You can `print` the web page and save as PDF (e.g. Chrome: Right click the web page $\\rightarrow$ Print... $\\rightarrow$ Choose \"Destination: Save as PDF\" and click \"Save\"). Προσοχή στην περίπτωση όπου κώδικας/σχόλια εμφανίζονται εκτός των ορίων της σελίδας. Μια λύση είναι η αλλαγή γραμμής π.χ. σε σχόλια που υπερβαίνουν το πλάτος της σελίδας.\n",
    "* Στην περίπτωση που οι εικόνες εξόδου δεν εμφανίζονται σωστά, μια λύση μέσω colab είναι (εργαλείο nbconvert):\n",
    "   * Ανέβασμα του αρχείου `assignment.ipynb` στο home directory του Colaboratory (ο κατάλογος home είναι: /content/).\n",
    "   * Εκτελέστε σε ένα κελί colab ενός νέου notebook: `!jupyter nbconvert --to html /content/assignment.ipynb`\n",
    "   * Κάνετε λήψη του assignment.html τοπικά στον υπολογιστή σας και ανοίξτε το αρχείο μέσω browser ώστε να το εξάγετε ως PDF.\n",
    "\n",
    "2. Local Jupyter/JupyterLab(Συνιστάται): You can `print` the web page and save as PDF (File $\\rightarrow$ Print... $\\rightarrow$ Choose \"Destination: Save as PDF\" and click \"Save\"). Προσοχή στην περίπτωση όπου κώδικας/σχόλια εμφανίζονται εκτός των ορίων της σελίδας. Μια λύση είναι η αλλαγή γραμμής π.χ. σε σχόλια που υπερβαίνουν το πλάτος της σελίδας.\n",
    "\n",
    "3. Local Jupyter/JupyterLab(**Συνιστάται!**): You can `export` and save as HTML (File $\\rightarrow$ Save & Export Notebook as... $\\rightarrow$ HTML). Στη συνέχεια μπορείτε να μετατρέψετε το HTML αρχείο αποθηκεύοντάς το ως PDF μέσω ενός browser."
   ]
  }
 ],
 "metadata": {
  "anaconda-cloud": {},
  "colab": {
   "collapsed_sections": [
    "jZQQIiKPnRQF",
    "aYf3GsdmpfvS",
    "6Wu-weDbqEAY",
    "mNzcCiLr0AU8",
    "zmQUOBNg0PkW",
    "7pCLEVJ_1F66"
   ],
   "provenance": []
  },
  "hide_input": false,
  "kernelspec": {
   "display_name": "Python 3 (ipykernel)",
   "language": "python",
   "name": "python3"
  },
  "language_info": {
   "codemirror_mode": {
    "name": "ipython",
    "version": 3
   },
   "file_extension": ".py",
   "mimetype": "text/x-python",
   "name": "python",
   "nbconvert_exporter": "python",
   "pygments_lexer": "ipython3",
   "version": "3.12.8"
  },
  "toc": {
   "colors": {
    "hover_highlight": "#DAA520",
    "running_highlight": "#FF0000",
    "selected_highlight": "#FFD700"
   },
   "moveMenuLeft": true,
   "nav_menu": {
    "height": "123px",
    "width": "252px"
   },
   "navigate_menu": true,
   "number_sections": true,
   "sideBar": true,
   "threshold": 4,
   "toc_cell": false,
   "toc_section_display": "block",
   "toc_window_display": false,
   "widenNotebook": false
  }
 },
 "nbformat": 4,
 "nbformat_minor": 4
}
